{
 "cells": [
  {
   "cell_type": "code",
   "execution_count": 1,
   "metadata": {},
   "outputs": [],
   "source": [
    "import numpy as np\n",
    "import pandas as pd\n",
    "import matplotlib.pyplot as plt\n",
    "import seaborn as sns\n",
    "import scipy\n",
    "import glob"
   ]
  },
  {
   "cell_type": "code",
   "execution_count": 2,
   "metadata": {},
   "outputs": [],
   "source": [
    "def df_to_arr(df):\n",
    "    \n",
    "    vals = []\n",
    "    for _, row in df.iterrows():\n",
    "        vals.extend(row.tolist())\n",
    "    return np.array([x for x in vals if str(x) != 'nan'])"
   ]
  },
  {
   "cell_type": "markdown",
   "metadata": {},
   "source": [
    "# IP Significance Tests"
   ]
  },
  {
   "cell_type": "markdown",
   "metadata": {},
   "source": [
    "### 1. Paired t-test"
   ]
  },
  {
   "cell_type": "code",
   "execution_count": 4,
   "metadata": {},
   "outputs": [
    {
     "data": {
      "text/plain": [
       "Ttest_relResult(statistic=4.745273895129075, pvalue=0.0004759467069835387)"
      ]
     },
     "execution_count": 4,
     "metadata": {},
     "output_type": "execute_result"
    }
   ],
   "source": [
    "scrambled_data = np.load('output/v1/pre_ip/outer_dist.npy')\n",
    "avgs_scrambled = []\n",
    "\n",
    "num_subjects = 13\n",
    "run_size = num_subjects * (num_subjects-1)\n",
    "sub_num_per_run=num_subjects-1\n",
    "num_runs = len(scrambled_data) // run_size\n",
    "for i in range(num_subjects):\n",
    "    \n",
    "    subj_vals = []\n",
    "    for j in range(num_runs):\n",
    "        subj_vals.extend(scrambled_data[sub_num_per_run*num_subjects*j+sub_num_per_run*i:sub_num_per_run*num_subjects*j+sub_num_per_run*(i+1)])\n",
    "    avgs_scrambled.append(np.mean(subj_vals))\n",
    "\n",
    "unscrambled_data = df_to_arr(pd.read_csv('output/v1/pre_ip/outer_accs_avg.csv', index_col=0))\n",
    "avgs_unscrambled = []\n",
    "for i in range(num_subjects):\n",
    "    avgs_unscrambled.append(np.mean(unscrambled_data[i*sub_num_per_run:(i+1)*sub_num_per_run]))\n",
    "    \n",
    "scipy.stats.ttest_rel(avgs_unscrambled, avgs_scrambled)"
   ]
  },
  {
   "cell_type": "markdown",
   "metadata": {},
   "source": [
    "### 2. Paired t-test with Danny's data"
   ]
  },
  {
   "cell_type": "code",
   "execution_count": 4,
   "metadata": {},
   "outputs": [
    {
     "data": {
      "text/plain": [
       "Ttest_relResult(statistic=4.463230343064583, pvalue=0.0007747591423758058)"
      ]
     },
     "execution_count": 4,
     "metadata": {},
     "output_type": "execute_result"
    }
   ],
   "source": [
    "avgs_unscrambled = [0.4991,0.5576,0.5868,0.6517,0.5681,0.4544,0.5742,0.5543,0.5931,0.5668,0.5192,0.5313,0.5648]\n",
    "avgs_scrambled = [0.4980,0.5117,0.5169,0.5118,0.5108,0.4845,0.5093,0.4973,0.5034,0.5057,0.5003,0.4976,0.5075]\n",
    "scipy.stats.ttest_rel(avgs_unscrambled, avgs_scrambled)"
   ]
  },
  {
   "cell_type": "markdown",
   "metadata": {},
   "source": [
    "### 3. Z significance test"
   ]
  },
  {
   "cell_type": "code",
   "execution_count": 11,
   "metadata": {},
   "outputs": [
    {
     "name": "stdout",
     "output_type": "stream",
     "text": [
      "z-score: 5.185320161902627\n",
      "p-value: 1.0782204363864264e-07\n"
     ]
    }
   ],
   "source": [
    "outer_scrambled = np.load('output/v1/pre_ip/outer_dist.npy')\n",
    "avgs_scrambled = []\n",
    "for i in range(len(outer_scrambled)//run_size):\n",
    "    sample = outer_scrambled[run_size*i:run_size*(i+1)]\n",
    "    avgs_scrambled.append(np.mean(sample))\n",
    "    \n",
    "avgs_mean = np.mean(avgs_scrambled)\n",
    "avgs_std = np.std(avgs_scrambled)\n",
    "\n",
    "outer_unscrambled = df_to_arr(pd.read_csv('output/v1/pre_ip/outer_accs_avg.csv', index_col=0))\n",
    "avg_unscrambled = np.mean(outer_unscrambled)\n",
    "\n",
    "z_score = (avg_unscrambled - avgs_mean) / avgs_std\n",
    "print(f\"z-score: {z_score}\")\n",
    "print(f\"p-value: {scipy.stats.norm.sf(abs(z_score))}\")"
   ]
  },
  {
   "cell_type": "markdown",
   "metadata": {},
   "source": [
    "### 4. Intrasubject paired t-test"
   ]
  },
  {
   "cell_type": "code",
   "execution_count": 4,
   "metadata": {},
   "outputs": [
    {
     "data": {
      "text/plain": [
       "Ttest_relResult(statistic=17.70964321599231, pvalue=5.74135789477112e-10)"
      ]
     },
     "execution_count": 4,
     "metadata": {},
     "output_type": "execute_result"
    }
   ],
   "source": [
    "sub_num_per_run = 200\n",
    "num_subjects = 13\n",
    "run_size = num_subjects * sub_num_per_run\n",
    "\n",
    "scrambled_data = np.load('output/v1/pre_ip/outer_dist_within.npy')\n",
    "num_runs = len(scrambled_data) // run_size\n",
    "avg_data_unscrambled = pd.read_csv('output/v1/pre_ip/outer_accs_within.csv', index_col=0)['Average'].tolist()\n",
    "\n",
    "avg_data_scrambled = []\n",
    "for i in range(num_subjects):\n",
    "    subj_data = []\n",
    "    for j in range(num_runs):\n",
    "        subj_data.extend(scrambled_data[sub_num_per_run*num_subjects*j+sub_num_per_run*i:sub_num_per_run*num_subjects*j+sub_num_per_run*(i+1)])\n",
    "    avg_data_scrambled.append(np.mean(subj_data))\n",
    "    \n",
    "scipy.stats.ttest_rel(avg_data_unscrambled, avg_data_scrambled)"
   ]
  },
  {
   "cell_type": "markdown",
   "metadata": {},
   "source": [
    "### 5. Intrasubject z significance test"
   ]
  },
  {
   "cell_type": "code",
   "execution_count": 5,
   "metadata": {},
   "outputs": [
    {
     "name": "stdout",
     "output_type": "stream",
     "text": [
      "z-score: 42.27275169891556\n",
      "p-value: 0.0\n"
     ]
    }
   ],
   "source": [
    "avg_unscrambled = np.mean(df_to_arr(pd.read_csv('output/v1/pre_ip/outer_accs_within.csv', index_col=0).drop(['Average'], axis=1)))\n",
    "\n",
    "scrambled_data = np.load('output/v1/pre_ip/outer_dist_within.npy')\n",
    "avgs_scrambled = []\n",
    "for i in range(num_runs):\n",
    "    avgs_scrambled.append(np.mean(scrambled_data[i*sub_num_per_run*num_subjects: (i+1)*sub_num_per_run*num_subjects]))\n",
    "    \n",
    "avgs_mean = np.mean(avgs_scrambled)\n",
    "avgs_std = np.std(avgs_scrambled)\n",
    "    \n",
    "z_score = (avg_unscrambled - avgs_mean) / avgs_std\n",
    "print(f\"z-score: {z_score}\")\n",
    "print(f\"p-value: {scipy.stats.norm.sf(abs(z_score))}\")\n"
   ]
  },
  {
   "cell_type": "markdown",
   "metadata": {},
   "source": [
    "# CP Significance Tests"
   ]
  },
  {
   "cell_type": "markdown",
   "metadata": {},
   "source": [
    "### 1. Paired t-test"
   ]
  },
  {
   "cell_type": "code",
   "execution_count": 19,
   "metadata": {},
   "outputs": [
    {
     "data": {
      "text/plain": [
       "Ttest_relResult(statistic=3.772353869257824, pvalue=0.0026603625774546022)"
      ]
     },
     "execution_count": 19,
     "metadata": {},
     "output_type": "execute_result"
    }
   ],
   "source": [
    "scrambled_data = np.load('output/v1/pre_cp/outer_dist.npy')\n",
    "avgs_scrambled = []\n",
    "\n",
    "num_subjects = 13\n",
    "run_size = num_subjects * (num_subjects-1)\n",
    "num_runs = len(scrambled_data) // run_size\n",
    "sub_num_per_run=num_subjects-1\n",
    "for i in range(num_subjects):\n",
    "    \n",
    "    subj_vals = []\n",
    "    for j in range(num_runs):\n",
    "        subj_vals.extend(scrambled_data[sub_num_per_run*num_subjects*j+sub_num_per_run*i:sub_num_per_run*num_subjects*j+sub_num_per_run*(i+1)])\n",
    "    avgs_scrambled.append(np.mean(subj_vals))\n",
    "\n",
    "unscrambled_data = df_to_arr(pd.read_csv('output/v1/pre_cp/outer_accs_avg.csv', index_col=0))\n",
    "avgs_unscrambled = []\n",
    "for i in range(num_subjects):\n",
    "    avgs_unscrambled.append(np.mean(unscrambled_data[i*sub_num_per_run:(i+1)*sub_num_per_run]))\n",
    "    \n",
    "scipy.stats.ttest_rel(avgs_unscrambled, avgs_scrambled)"
   ]
  },
  {
   "cell_type": "markdown",
   "metadata": {},
   "source": [
    "### 2. Paired t-test with Danny's data"
   ]
  },
  {
   "cell_type": "code",
   "execution_count": 5,
   "metadata": {},
   "outputs": [
    {
     "data": {
      "text/plain": [
       "Ttest_relResult(statistic=3.735384847411171, pvalue=0.0028458261379529716)"
      ]
     },
     "execution_count": 5,
     "metadata": {},
     "output_type": "execute_result"
    }
   ],
   "source": [
    "avgs_unscrambled = [0.4978,0.5260,0.5321,0.5339,0.5295,0.5590,0.5608,0.5356,0.5130,0.5230,0.5413,0.5000,0.5156]\n",
    "avgs_scrambled = [0.4925,0.5205,0.5071,0.4614,0.5250,0.5184,0.5335,0.5079,0.5125,0.5015,0.5002,0.4983,0.5072]\n",
    "scipy.stats.ttest_rel(avgs_unscrambled, avgs_scrambled)"
   ]
  },
  {
   "cell_type": "markdown",
   "metadata": {},
   "source": [
    "### 3. Z significance test"
   ]
  },
  {
   "cell_type": "code",
   "execution_count": 18,
   "metadata": {},
   "outputs": [
    {
     "name": "stdout",
     "output_type": "stream",
     "text": [
      "z-score: 2.016307816933691\n",
      "p-value: 0.02188389901392728\n"
     ]
    }
   ],
   "source": [
    "scrambled_data = np.load('output/v1/pre_cp/outer_dist.npy')\n",
    "avgs_scrambled = []\n",
    "\n",
    "run_size=num_subjects*(num_subjects-1)\n",
    "for i in range(len(scrambled_data)//run_size):\n",
    "    sample = scrambled_data[run_size*i:run_size*(i+1)]\n",
    "    avgs_scrambled.append(np.mean(sample))\n",
    "\n",
    "avgs_mean = np.mean(avgs_scrambled)\n",
    "avgs_std = np.std(avgs_scrambled)\n",
    "\n",
    "unscrambled_data = df_to_arr(pd.read_csv('output/v1/pre_cp/outer_accs_avg.csv', index_col=0))\n",
    "avg_unscrambled = np.mean(unscrambled_data)\n",
    "\n",
    "z_score = (avg_unscrambled - avgs_mean) / avgs_std\n",
    "print(f\"z-score: {z_score}\")\n",
    "print(f\"p-value: {scipy.stats.norm.sf(abs(z_score))}\")"
   ]
  },
  {
   "cell_type": "markdown",
   "metadata": {},
   "source": [
    "### 4. Intrasubject paired t-test"
   ]
  },
  {
   "cell_type": "code",
   "execution_count": 10,
   "metadata": {},
   "outputs": [
    {
     "data": {
      "text/plain": [
       "Ttest_relResult(statistic=32.665998616518294, pvalue=4.2873407942616703e-13)"
      ]
     },
     "execution_count": 10,
     "metadata": {},
     "output_type": "execute_result"
    }
   ],
   "source": [
    "num_runs = 30\n",
    "sub_num_per_run = 200\n",
    "num_subjects = 13\n",
    "run_size = num_subjects * sub_num_per_run\n",
    "\n",
    "scrambled_data = np.load('output/v1/pre_cp/outer_dist_within.npy')\n",
    "avg_data_unscrambled = pd.read_csv('output/v1/pre_cp/outer_accs_within.csv', index_col=0)['Average'].tolist()\n",
    "\n",
    "avg_data_scrambled = []\n",
    "for i in range(num_subjects):\n",
    "    subj_data = []\n",
    "    for j in range(num_runs):\n",
    "        subj_data.extend(scrambled_data[sub_num_per_run*num_subjects*j+sub_num_per_run*i:sub_num_per_run*num_subjects*j+sub_num_per_run*(i+1)])\n",
    "    avg_data_scrambled.append(np.mean(subj_data))\n",
    "    \n",
    "scipy.stats.ttest_rel(avg_data_unscrambled, avg_data_scrambled)"
   ]
  },
  {
   "cell_type": "markdown",
   "metadata": {},
   "source": [
    "### 5. Intrasubject z significance test"
   ]
  },
  {
   "cell_type": "code",
   "execution_count": 11,
   "metadata": {},
   "outputs": [
    {
     "name": "stdout",
     "output_type": "stream",
     "text": [
      "z-score: 59.61245478910072\n",
      "p-value: 0.0\n"
     ]
    }
   ],
   "source": [
    "avg_unscrambled = np.mean(df_to_arr(pd.read_csv('output/v1/pre_cp/outer_accs_within.csv', index_col=0).drop(['Average'], axis=1)))\n",
    "\n",
    "scrambled_data = np.load('output/v1/pre_cp/outer_dist_within.npy')\n",
    "avgs_scrambled = []\n",
    "for i in range(num_runs):\n",
    "    avgs_scrambled.append(np.mean(scrambled_data[i*sub_num_per_run*num_subjects: (i+1)*sub_num_per_run*num_subjects]))\n",
    "    \n",
    "avgs_mean = np.mean(avgs_scrambled)\n",
    "avgs_std = np.std(avgs_scrambled)    \n",
    "    \n",
    "z_score = (avg_unscrambled - avgs_mean) / avgs_std\n",
    "print(f\"z-score: {z_score}\")\n",
    "print(f\"p-value: {scipy.stats.norm.sf(abs(z_score))}\")\n"
   ]
  },
  {
   "cell_type": "code",
   "execution_count": null,
   "metadata": {},
   "outputs": [],
   "source": []
  }
 ],
 "metadata": {
  "kernelspec": {
   "display_name": "Python 3",
   "language": "python",
   "name": "python3"
  },
  "language_info": {
   "codemirror_mode": {
    "name": "ipython",
    "version": 3
   },
   "file_extension": ".py",
   "mimetype": "text/x-python",
   "name": "python",
   "nbconvert_exporter": "python",
   "pygments_lexer": "ipython3",
   "version": "3.6.0"
  }
 },
 "nbformat": 4,
 "nbformat_minor": 2
}

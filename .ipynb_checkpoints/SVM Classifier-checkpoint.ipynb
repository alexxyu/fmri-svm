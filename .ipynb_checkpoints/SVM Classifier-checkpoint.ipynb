{
 "cells": [
  {
   "cell_type": "markdown",
   "metadata": {},
   "source": [
    "# Training SVM\n",
    "\n",
    "### To-do:\n",
    "<ul>\n",
    "    <li> Find and track optimal parameters for SVM </li>\n",
    "    <li> Modify generate data function to include outside subject data w/ normalization </li>\n",
    "    <li> Track accuracy report </li>\n",
    "</ul>"
   ]
  },
  {
   "cell_type": "code",
   "execution_count": 102,
   "metadata": {},
   "outputs": [],
   "source": [
    "import numpy as np\n",
    "import pandas as pd\n",
    "import matplotlib.pyplot as plt\n",
    "from sklearn.svm import SVC\n",
    "from sklearn.preprocessing import MinMaxScaler\n",
    "import scipy.io\n",
    "import os"
   ]
  },
  {
   "cell_type": "code",
   "execution_count": 12,
   "metadata": {},
   "outputs": [
    {
     "data": {
      "text/plain": [
       "['AT', 'CC', 'CG', 'GD', 'JM', 'JR', 'JS', 'NL', 'RK', 'SC', 'TP', 'YY']"
      ]
     },
     "execution_count": 12,
     "metadata": {},
     "output_type": "execute_result"
    }
   ],
   "source": [
    "subjects"
   ]
  },
  {
   "cell_type": "code",
   "execution_count": 25,
   "metadata": {},
   "outputs": [],
   "source": [
    "'''\n",
    "Gets a list of subject IDs and file suffix, given a path to the data files\n",
    "\n",
    "Note: subject ID must be only 2 characters for this to work, and all data files\n",
    "must have same suffix\n",
    "'''\n",
    "def get_subjects(path):\n",
    "    \n",
    "    files = os.listdir(path)\n",
    "    subjects = [f[:2] for f in files]\n",
    "    suffix = files[0][2:]\n",
    "    subjects.remove('ML')\n",
    "    subjects.sort()\n",
    "    \n",
    "    return subjects, suffix"
   ]
  },
  {
   "cell_type": "code",
   "execution_count": 58,
   "metadata": {},
   "outputs": [],
   "source": [
    "'''\n",
    "Randomly selects half of the labels in the data to switch to the other class. \n",
    "\n",
    "y_data:   list of the label data\n",
    "classes:  list of the two different classes of labels\n",
    "'''\n",
    "def scramble_labels(y_data, classes):\n",
    "    \n",
    "    for index in np.nditer(np.random.choice(len(y_data), size=len(y_data)//2, replace=False)):\n",
    "        \n",
    "        if y_data[index] == classes[0]:\n",
    "            # print(\"%i: %s -> %s\" % (index, y_data[index], classes[1]))\n",
    "            y_data[index] = classes[1]\n",
    "        else:\n",
    "            # print(\"%i: %s -> %s\" % (index, y_data[index], classes[0]))\n",
    "            y_data[index] = classes[0]\n"
   ]
  },
  {
   "cell_type": "code",
   "execution_count": 9,
   "metadata": {},
   "outputs": [],
   "source": [
    "'''\n",
    "Gets individuals subject data.\n",
    "\n",
    "path:          directory to data files\n",
    "subject:       specific subject data to load\n",
    "suffix:        ending to filename\n",
    "roi:           0 for MT data, 1 for V1 data\n",
    "conds:         which conditional dataset to extract\n",
    "block_length:  standardized number of voxels per block\n",
    "'''\n",
    "def extract_subject_data(path, subject, suffix, roi, conds, block_length):\n",
    "    \n",
    "    x_data = []\n",
    "    y_data = []\n",
    "    \n",
    "    path_to_file = path + subject + suffix\n",
    "    mat = scipy.io.loadmat(path_to_file)['roi_scanData'][0][roi]\n",
    "        \n",
    "    for scan in range(len(mat[0])):\n",
    "            \n",
    "        for cond in conds:\n",
    "            \n",
    "            for block in range(len(mat[0][scan][0][cond][0])):\n",
    "\n",
    "                block_data = []\n",
    "                for tr in range(len(mat[0][scan][0][cond][0][block][0])):\n",
    "                    \n",
    "                    # Extract all voxel data from individual TRs\n",
    "                    block_data.extend(mat[0][scan][0][cond][0][block][0][tr][0][0][0].tolist())\n",
    "                \n",
    "                # Filters for most active voxels in each block\n",
    "                block_data.sort()\n",
    "                block_data = block_data[-block_length:]\n",
    "                \n",
    "                x_data.append(block_data)\n",
    "                y_data.append(mat[0][scan][1][cond][0])\n",
    "                \n",
    "    data = {'x': x_data, 'y': y_data}\n",
    "    return data"
   ]
  },
  {
   "cell_type": "code",
   "execution_count": null,
   "metadata": {},
   "outputs": [],
   "source": [
    "def get_optimal_params():"
   ]
  },
  {
   "cell_type": "code",
   "execution_count": 180,
   "metadata": {},
   "outputs": [],
   "source": [
    "'''\n",
    "Generates training and testing data.\n",
    "'''\n",
    "def generate_data(subjects, inner_test_subject, outer_test_subject, path, suffix, block_length, roi, conds):\n",
    "    \n",
    "    x_train = []\n",
    "    y_train = []\n",
    "    x_test = []\n",
    "    y_test = []\n",
    "    \n",
    "    for subject in range(len(subjects)):\n",
    "        \n",
    "        if subject == outer_test_subject or subject == inner_test_subject:\n",
    "            continue\n",
    "        subject_data = extract_subject_data(path, subjects[subject], suffix, roi, conds, block_length)\n",
    "        x_train.extend(subject_data['x'])\n",
    "        y_train.extend(subject_data['y'])\n",
    "    \n",
    "    test_data = extract_subject_data(path, subjects[inner_test_subject], suffix, roi, conds, block_length)\n",
    "    \n",
    "    x_train_len = len(x_train)\n",
    "    x_train.extend(test_data['x'])\n",
    "    \n",
    "    # MinMaxScaler scales each feature to values between 0 and 1 among all x data\n",
    "    scaler = MinMaxScaler(feature_range=(0, 1))\n",
    "    x_normalized = scaler.fit_transform(x_train)\n",
    "    x_train, x_test = x_normalized[:x_train_len], x_normalized[x_train_len:]\n",
    "\n",
    "    y_test = test_data['y']\n",
    "    y_train = np.stack(y_train, axis=0)\n",
    "    \n",
    "    return x_train, y_train, x_test, y_test"
   ]
  },
  {
   "cell_type": "code",
   "execution_count": 182,
   "metadata": {},
   "outputs": [],
   "source": [
    "'''\n",
    "Trains the classifier, uses nested cross-validation.\n",
    "\n",
    "x_data:        formatted array of all subject voxel data\n",
    "y_data:        formatted array of labels corresponding to the x_data\n",
    "path:          path to data files\n",
    "kernel_type:   type of kernel to run SVC \n",
    "               (options are 'linear', 'rbf', 'poly', 'sigmoid')\n",
    "roi:           0 for V1, 1 for MT\n",
    "conds:         which conditional dataset to extract\n",
    "block_length:  standardized number of voxels per block\n",
    "'''\n",
    "def train(path, kernel_type, roi, conds, block_length):\n",
    "    \n",
    "    subjects, suffix = get_subjects(path)\n",
    "    acc_report = pd.DataFrame(index=subjects, columns=subjects)\n",
    "    \n",
    "    for outer_subject in range(len(subjects)):\n",
    "        \n",
    "        # print(\"Currently on outer subject #%i.\" % (outer_subject))\n",
    "\n",
    "        outer_data = extract_subject_data(path, subjects[outer_subject], suffix, roi, conds, block_length)\n",
    "        outer_x_test, outer_y_test = np.array(outer_data['x']), np.array(outer_data['y'])\n",
    "\n",
    "        for inner_subject in range(len(subjects)):\n",
    "\n",
    "            if inner_subject == outer_subject:\n",
    "                continue\n",
    "\n",
    "            # print(\"Currently on inner subject #%i.\" % (inner_subject))    \n",
    "            x_train, y_train, x_test, y_test = generate_data(subjects, inner_subject, outer_subject, path, suffix, block_length, roi, conds)\n",
    "            scramble_labels(y_train, classes)    \n",
    "                \n",
    "            # train model\n",
    "            # type of kernel will change\n",
    "            svclassifier = SVC(kernel=kernel_type, gamma='auto', max_iter=-1)\n",
    "            svclassifier.fit(x_train, y_train)\n",
    "            \n",
    "            # set aside testing subject for inner loop\n",
    "            acc = svclassifier.score(x_train, y_train)\n",
    "            \n",
    "            index = subjects[outer_subject]\n",
    "            col = subjects[inner_subject]\n",
    "            acc_report.at[index, col] = acc\n",
    "\n",
    "        # test outer subject\n",
    "    \n",
    "    return acc_report"
   ]
  },
  {
   "cell_type": "markdown",
   "metadata": {},
   "source": [
    "## Training model for accuracy\n",
    "\n",
    "For rbf kernel, should check grid points to find good values of C and gamma (necessary for performance) <br>\n",
    "<a href=\"https://scikit-learn.org/stable/modules/svm.html#parameters-of-the-rbf-kernel\"> sklearn.model_selection.GridSearchCV </a><br>"
   ]
  },
  {
   "cell_type": "code",
   "execution_count": 118,
   "metadata": {
    "scrolled": true
   },
   "outputs": [
    {
     "name": "stdout",
     "output_type": "stream",
     "text": [
      "Currently on outer subject #0.\n",
      "\n",
      "Currently on outer subject #1.\n",
      "\n",
      "Currently on outer subject #2.\n",
      "\n",
      "Currently on outer subject #3.\n",
      "\n",
      "Currently on outer subject #4.\n",
      "\n",
      "Currently on outer subject #5.\n",
      "\n",
      "Currently on outer subject #6.\n",
      "\n",
      "Currently on outer subject #7.\n",
      "\n",
      "Currently on outer subject #8.\n",
      "\n",
      "Currently on outer subject #9.\n",
      "\n",
      "Currently on outer subject #10.\n",
      "\n",
      "Currently on outer subject #11.\n",
      "\n"
     ]
    }
   ],
   "source": [
    "kernel_type = 'linear'\n",
    "path = r'scans/output/PRE/'\n",
    "roi = 1                            # V1-roi: 0, MT-roi: 1\n",
    "conds = [1, 3]                     # trained_cp: 0, trained_ip: 1, untrained_cp: 2, untrained_ip: 3\n",
    "block_length = 624 \n",
    "\n",
    "accs = train(path, kernel_type, roi, conds, block_length)"
   ]
  },
  {
   "cell_type": "code",
   "execution_count": 119,
   "metadata": {},
   "outputs": [
    {
     "data": {
      "text/html": [
       "<div>\n",
       "<style scoped>\n",
       "    .dataframe tbody tr th:only-of-type {\n",
       "        vertical-align: middle;\n",
       "    }\n",
       "\n",
       "    .dataframe tbody tr th {\n",
       "        vertical-align: top;\n",
       "    }\n",
       "\n",
       "    .dataframe thead th {\n",
       "        text-align: right;\n",
       "    }\n",
       "</style>\n",
       "<table border=\"1\" class=\"dataframe\">\n",
       "  <thead>\n",
       "    <tr style=\"text-align: right;\">\n",
       "      <th></th>\n",
       "      <th>AT</th>\n",
       "      <th>CC</th>\n",
       "      <th>CG</th>\n",
       "      <th>GD</th>\n",
       "      <th>JM</th>\n",
       "      <th>JR</th>\n",
       "      <th>JS</th>\n",
       "      <th>NL</th>\n",
       "      <th>RK</th>\n",
       "      <th>SC</th>\n",
       "      <th>TP</th>\n",
       "      <th>YY</th>\n",
       "    </tr>\n",
       "  </thead>\n",
       "  <tbody>\n",
       "    <tr>\n",
       "      <th>AT</th>\n",
       "      <td>NaN</td>\n",
       "      <td>0.601562</td>\n",
       "      <td>0.568182</td>\n",
       "      <td>0.551471</td>\n",
       "      <td>0.55303</td>\n",
       "      <td>0.628788</td>\n",
       "      <td>0.537879</td>\n",
       "      <td>0.609375</td>\n",
       "      <td>0.575758</td>\n",
       "      <td>0.53125</td>\n",
       "      <td>0.575758</td>\n",
       "      <td>0.578125</td>\n",
       "    </tr>\n",
       "    <tr>\n",
       "      <th>CC</th>\n",
       "      <td>0.554688</td>\n",
       "      <td>NaN</td>\n",
       "      <td>0.625</td>\n",
       "      <td>0.598485</td>\n",
       "      <td>0.554688</td>\n",
       "      <td>0.5625</td>\n",
       "      <td>0.585938</td>\n",
       "      <td>0.532258</td>\n",
       "      <td>0.5625</td>\n",
       "      <td>0.524194</td>\n",
       "      <td>0.554688</td>\n",
       "      <td>0.580645</td>\n",
       "    </tr>\n",
       "    <tr>\n",
       "      <th>CG</th>\n",
       "      <td>0.575758</td>\n",
       "      <td>0.546875</td>\n",
       "      <td>NaN</td>\n",
       "      <td>0.558824</td>\n",
       "      <td>0.606061</td>\n",
       "      <td>0.545455</td>\n",
       "      <td>0.606061</td>\n",
       "      <td>0.539062</td>\n",
       "      <td>0.575758</td>\n",
       "      <td>0.585938</td>\n",
       "      <td>0.537879</td>\n",
       "      <td>0.546875</td>\n",
       "    </tr>\n",
       "    <tr>\n",
       "      <th>GD</th>\n",
       "      <td>0.566176</td>\n",
       "      <td>0.575758</td>\n",
       "      <td>0.492647</td>\n",
       "      <td>NaN</td>\n",
       "      <td>0.580882</td>\n",
       "      <td>0.610294</td>\n",
       "      <td>0.566176</td>\n",
       "      <td>0.575758</td>\n",
       "      <td>0.551471</td>\n",
       "      <td>0.568182</td>\n",
       "      <td>0.551471</td>\n",
       "      <td>0.560606</td>\n",
       "    </tr>\n",
       "    <tr>\n",
       "      <th>JM</th>\n",
       "      <td>0.583333</td>\n",
       "      <td>0.546875</td>\n",
       "      <td>0.545455</td>\n",
       "      <td>0.617647</td>\n",
       "      <td>NaN</td>\n",
       "      <td>0.55303</td>\n",
       "      <td>0.568182</td>\n",
       "      <td>0.578125</td>\n",
       "      <td>0.55303</td>\n",
       "      <td>0.570312</td>\n",
       "      <td>0.560606</td>\n",
       "      <td>0.578125</td>\n",
       "    </tr>\n",
       "    <tr>\n",
       "      <th>JR</th>\n",
       "      <td>0.575758</td>\n",
       "      <td>0.5625</td>\n",
       "      <td>0.537879</td>\n",
       "      <td>0.595588</td>\n",
       "      <td>0.530303</td>\n",
       "      <td>NaN</td>\n",
       "      <td>0.545455</td>\n",
       "      <td>0.59375</td>\n",
       "      <td>0.621212</td>\n",
       "      <td>0.578125</td>\n",
       "      <td>0.55303</td>\n",
       "      <td>0.59375</td>\n",
       "    </tr>\n",
       "    <tr>\n",
       "      <th>JS</th>\n",
       "      <td>0.621212</td>\n",
       "      <td>0.515625</td>\n",
       "      <td>0.522727</td>\n",
       "      <td>0.566176</td>\n",
       "      <td>0.560606</td>\n",
       "      <td>0.590909</td>\n",
       "      <td>NaN</td>\n",
       "      <td>0.578125</td>\n",
       "      <td>0.55303</td>\n",
       "      <td>0.546875</td>\n",
       "      <td>0.537879</td>\n",
       "      <td>0.546875</td>\n",
       "    </tr>\n",
       "    <tr>\n",
       "      <th>NL</th>\n",
       "      <td>0.554688</td>\n",
       "      <td>0.612903</td>\n",
       "      <td>0.570312</td>\n",
       "      <td>0.598485</td>\n",
       "      <td>0.554688</td>\n",
       "      <td>0.59375</td>\n",
       "      <td>0.539062</td>\n",
       "      <td>NaN</td>\n",
       "      <td>0.59375</td>\n",
       "      <td>0.556452</td>\n",
       "      <td>0.65625</td>\n",
       "      <td>0.620968</td>\n",
       "    </tr>\n",
       "    <tr>\n",
       "      <th>RK</th>\n",
       "      <td>0.55303</td>\n",
       "      <td>0.617188</td>\n",
       "      <td>0.590909</td>\n",
       "      <td>0.522059</td>\n",
       "      <td>0.55303</td>\n",
       "      <td>0.55303</td>\n",
       "      <td>0.537879</td>\n",
       "      <td>0.554688</td>\n",
       "      <td>NaN</td>\n",
       "      <td>0.539062</td>\n",
       "      <td>0.583333</td>\n",
       "      <td>0.640625</td>\n",
       "    </tr>\n",
       "    <tr>\n",
       "      <th>SC</th>\n",
       "      <td>0.523438</td>\n",
       "      <td>0.620968</td>\n",
       "      <td>0.632812</td>\n",
       "      <td>0.590909</td>\n",
       "      <td>0.585938</td>\n",
       "      <td>0.59375</td>\n",
       "      <td>0.625</td>\n",
       "      <td>0.540323</td>\n",
       "      <td>0.601562</td>\n",
       "      <td>NaN</td>\n",
       "      <td>0.632812</td>\n",
       "      <td>0.596774</td>\n",
       "    </tr>\n",
       "    <tr>\n",
       "      <th>TP</th>\n",
       "      <td>0.583333</td>\n",
       "      <td>0.554688</td>\n",
       "      <td>0.530303</td>\n",
       "      <td>0.610294</td>\n",
       "      <td>0.545455</td>\n",
       "      <td>0.55303</td>\n",
       "      <td>0.598485</td>\n",
       "      <td>0.59375</td>\n",
       "      <td>0.560606</td>\n",
       "      <td>0.515625</td>\n",
       "      <td>NaN</td>\n",
       "      <td>0.539062</td>\n",
       "    </tr>\n",
       "    <tr>\n",
       "      <th>YY</th>\n",
       "      <td>0.609375</td>\n",
       "      <td>0.645161</td>\n",
       "      <td>0.523438</td>\n",
       "      <td>0.568182</td>\n",
       "      <td>0.546875</td>\n",
       "      <td>0.601562</td>\n",
       "      <td>0.554688</td>\n",
       "      <td>0.556452</td>\n",
       "      <td>0.53125</td>\n",
       "      <td>0.556452</td>\n",
       "      <td>0.570312</td>\n",
       "      <td>NaN</td>\n",
       "    </tr>\n",
       "  </tbody>\n",
       "</table>\n",
       "</div>"
      ],
      "text/plain": [
       "          AT        CC        CG        GD        JM        JR        JS  \\\n",
       "AT       NaN  0.601562  0.568182  0.551471   0.55303  0.628788  0.537879   \n",
       "CC  0.554688       NaN     0.625  0.598485  0.554688    0.5625  0.585938   \n",
       "CG  0.575758  0.546875       NaN  0.558824  0.606061  0.545455  0.606061   \n",
       "GD  0.566176  0.575758  0.492647       NaN  0.580882  0.610294  0.566176   \n",
       "JM  0.583333  0.546875  0.545455  0.617647       NaN   0.55303  0.568182   \n",
       "JR  0.575758    0.5625  0.537879  0.595588  0.530303       NaN  0.545455   \n",
       "JS  0.621212  0.515625  0.522727  0.566176  0.560606  0.590909       NaN   \n",
       "NL  0.554688  0.612903  0.570312  0.598485  0.554688   0.59375  0.539062   \n",
       "RK   0.55303  0.617188  0.590909  0.522059   0.55303   0.55303  0.537879   \n",
       "SC  0.523438  0.620968  0.632812  0.590909  0.585938   0.59375     0.625   \n",
       "TP  0.583333  0.554688  0.530303  0.610294  0.545455   0.55303  0.598485   \n",
       "YY  0.609375  0.645161  0.523438  0.568182  0.546875  0.601562  0.554688   \n",
       "\n",
       "          NL        RK        SC        TP        YY  \n",
       "AT  0.609375  0.575758   0.53125  0.575758  0.578125  \n",
       "CC  0.532258    0.5625  0.524194  0.554688  0.580645  \n",
       "CG  0.539062  0.575758  0.585938  0.537879  0.546875  \n",
       "GD  0.575758  0.551471  0.568182  0.551471  0.560606  \n",
       "JM  0.578125   0.55303  0.570312  0.560606  0.578125  \n",
       "JR   0.59375  0.621212  0.578125   0.55303   0.59375  \n",
       "JS  0.578125   0.55303  0.546875  0.537879  0.546875  \n",
       "NL       NaN   0.59375  0.556452   0.65625  0.620968  \n",
       "RK  0.554688       NaN  0.539062  0.583333  0.640625  \n",
       "SC  0.540323  0.601562       NaN  0.632812  0.596774  \n",
       "TP   0.59375  0.560606  0.515625       NaN  0.539062  \n",
       "YY  0.556452   0.53125  0.556452  0.570312       NaN  "
      ]
     },
     "execution_count": 119,
     "metadata": {},
     "output_type": "execute_result"
    }
   ],
   "source": [
    "accs"
   ]
  },
  {
   "cell_type": "markdown",
   "metadata": {},
   "source": [
    "## Histograms of Different Kernel Accuracies"
   ]
  },
  {
   "cell_type": "code",
   "execution_count": 183,
   "metadata": {},
   "outputs": [
    {
     "data": {
      "image/png": "[encoded data removed]",
      "text/plain": [
       "<Figure size 1152x720 with 4 Axes>"
      ]
     },
     "metadata": {
      "needs_background": "light"
     },
     "output_type": "display_data"
    }
   ],
   "source": [
    "path = r'scans/output/PRE/'\n",
    "roi = 1                            # V1-roi: 0, MT-roi: 1\n",
    "conds = [1, 3]                     # trained_cp: 0, trained_ip: 1, untrained_cp: 2, untrained_ip: 3\n",
    "block_length = 624 \n",
    "\n",
    "kernels = ['linear', 'rbf', 'poly', 'sigmoid']\n",
    "fig, axes = plt.subplots(2, 2, figsize=(16,10), squeeze=False)\n",
    "\n",
    "kernel_accs = {}\n",
    "\n",
    "for i, kernel in enumerate(kernels):\n",
    "    \n",
    "    accs = train(path, kernel, roi, conds, block_length)\n",
    "    kernel_accs[kernel] = accs\n",
    "    vals = []\n",
    "    for column in accs:\n",
    "        vals.extend(accs[column].tolist())\n",
    "    vals = [x for x in vals if str(x) != 'nan']\n",
    "    \n",
    "    row = 0\n",
    "    if i > 1:\n",
    "        row = 1\n",
    "    col = 0\n",
    "    if i == 1 or i == 3:\n",
    "        col = 1\n",
    "    \n",
    "    axes[row, col].hist(vals)\n",
    "    axes[row, col].set_title(kernel)\n",
    "    axes[row, col].set_xlabel('Accuracy')\n",
    "\n",
    "fig.tight_layout()\n",
    "plt.savefig('acc_comparison.png')\n",
    "plt.show()"
   ]
  },
  {
   "cell_type": "markdown",
   "metadata": {},
   "source": [
    "### Debugging"
   ]
  },
  {
   "cell_type": "code",
   "execution_count": 11,
   "metadata": {},
   "outputs": [
    {
     "data": {
      "text/plain": [
       "0.5"
      ]
     },
     "execution_count": 11,
     "metadata": {},
     "output_type": "execute_result"
    }
   ],
   "source": [
    "kernel_type = 'poly'\n",
    "path = r'scans/output/PRE/'\n",
    "suffix = \"PRE_EVERY_TR_roi.mat\"\n",
    "roi = 1                            # V1-roi: 0, MT-roi: 1\n",
    "conds = [1, 3]                     # trained_cp: 0, trained_ip: 1, untrained_cp: 2, untrained_ip: 3\n",
    "subjects = get_subjects(path)\n",
    "block_length = 624                 # minimum block length\n",
    "\n",
    "inner_subject = 3\n",
    "outer_subject = 0\n",
    "x_train, y_train, x_test, y_test = generate_data(subjects, inner_subject, outer_subject, path, suffix, block_length, roi, conds)\n",
    "svclassifier = SVC(kernel=kernel_type, gamma='auto', max_iter=-1)\n",
    "svclassifier.fit(x_train, y_train)\n",
    "\n",
    "svclassifier.score(x_test, y_test)\n"
   ]
  },
  {
   "cell_type": "code",
   "execution_count": 837,
   "metadata": {},
   "outputs": [],
   "source": [
    "kernel_type = 'sigmoid'\n",
    "path = r'scans/output/PRE/'\n",
    "suffix = \"PRE_EVERY_TR_roi.mat\"\n",
    "roi = 1                            # V1-roi: 0, MT-roi: 1\n",
    "conds = [1, 3]                     # trained_cp: 0, trained_ip: 1, untrained_cp: 2, untrained_ip: 3\n",
    "subjects = get_subjects(path)\n",
    "block_length = 624                 # minimum block length\n",
    "\n",
    "data = extract_subject_data(path, subjects[2], suffix, roi, conds, block_length)\n",
    "#svclassifier = SVC(kernel=kernel_type, gamma='auto', max_iter=-1)\n",
    "#svclassifier.fit(data['x'], data['y'])"
   ]
  },
  {
   "cell_type": "code",
   "execution_count": 734,
   "metadata": {},
   "outputs": [
    {
     "data": {
      "text/plain": [
       "0.625"
      ]
     },
     "execution_count": 734,
     "metadata": {},
     "output_type": "execute_result"
    }
   ],
   "source": [
    "test_data = extract_subject_data(path, subjects[1], suffix, roi, conds, block_length)\n",
    "svclassifier.score(test_data['x'], test_data['y'])"
   ]
  },
  {
   "cell_type": "code",
   "execution_count": 53,
   "metadata": {
    "scrolled": true
   },
   "outputs": [
    {
     "name": "stdout",
     "output_type": "stream",
     "text": [
      "0: trained_ip -> untrained_ip\n",
      "5: trained_ip -> untrained_ip\n",
      "6: untrained_ip -> trained_ip\n",
      "8: trained_ip -> untrained_ip\n",
      "7: untrained_ip -> trained_ip\n",
      "1: trained_ip -> untrained_ip\n"
     ]
    }
   ],
   "source": [
    "classes = ['trained_ip', 'untrained_ip']\n",
    "\n",
    "data = extract_subject_data(path, subjects[0], suffix, roi, conds, block_length)\n",
    "scramble_labels(data['y'], classes)"
   ]
  },
  {
   "cell_type": "markdown",
   "metadata": {},
   "source": [
    "### Accuracy Report"
   ]
  },
  {
   "cell_type": "code",
   "execution_count": null,
   "metadata": {},
   "outputs": [],
   "source": [
    "from sklearn.metrics import classification_report, confusion_matrix\n",
    "\n",
    "print(confusion_matrix(y_test, y_pred))\n",
    "print(classification_report(y_test, y_pred))"
   ]
  },
  {
   "cell_type": "code",
   "execution_count": null,
   "metadata": {},
   "outputs": [],
   "source": []
  }
 ],
 "metadata": {
  "kernelspec": {
   "display_name": "Python 3",
   "language": "python",
   "name": "python3"
  },
  "language_info": {
   "codemirror_mode": {
    "name": "ipython",
    "version": 3
   },
   "file_extension": ".py",
   "mimetype": "text/x-python",
   "name": "python",
   "nbconvert_exporter": "python",
   "pygments_lexer": "ipython3",
   "version": "3.6.0"
  }
 },
 "nbformat": 4,
 "nbformat_minor": 2
}

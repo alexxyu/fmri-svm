{
 "cells": [
  {
   "cell_type": "markdown",
   "metadata": {},
   "source": [
    "# Training SVM\n",
    "\n",
    "### To-do:\n",
    "<ul>\n",
    "    <li> Find and track optimal parameters for SVM </li>\n",
    "    <li> Write training function with nested cross-validation AND scrambled labels </li>\n",
    "    <li> Track accuracy report </li>\n",
    "</ul>"
   ]
  },
  {
   "cell_type": "code",
   "execution_count": 2,
   "metadata": {},
   "outputs": [],
   "source": [
    "from sklearn.svm import SVC\n",
    "import scipy.io\n",
    "import numpy as np\n",
    "import os"
   ]
  },
  {
   "cell_type": "code",
   "execution_count": 12,
   "metadata": {},
   "outputs": [
    {
     "data": {
      "text/plain": [
       "['AT', 'CC', 'CG', 'GD', 'JM', 'JR', 'JS', 'NL', 'RK', 'SC', 'TP', 'YY']"
      ]
     },
     "execution_count": 12,
     "metadata": {},
     "output_type": "execute_result"
    }
   ],
   "source": [
    "subjects"
   ]
  },
  {
   "cell_type": "code",
   "execution_count": 6,
   "metadata": {
    "collapsed": true
   },
   "outputs": [
    {
     "ename": "SyntaxError",
     "evalue": "invalid syntax (<ipython-input-6-d81d3cd12370>, line 18)",
     "output_type": "error",
     "traceback": [
      "\u001b[0;36m  File \u001b[0;32m\"<ipython-input-6-d81d3cd12370>\"\u001b[0;36m, line \u001b[0;32m18\u001b[0m\n\u001b[0;31m    for inner_subject in range(len(subjects))\u001b[0m\n\u001b[0m                                             ^\u001b[0m\n\u001b[0;31mSyntaxError\u001b[0m\u001b[0;31m:\u001b[0m invalid syntax\n"
     ]
    }
   ],
   "source": [
    "'''\n",
    "Trains the classifier, uses nested cross-validation.\n",
    "\n",
    "x_data:           formatted array of all subject voxel data\n",
    "y_data:           formatted array of labels corresponding to the x_data\n",
    "num_of_subjects:  number of subjects in the data\n",
    "kernel_type:      type of kernel to run SVC \n",
    "                  (options are 'linear', 'rbf', 'poly', 'sigmoid', 'precomputed')\n",
    "'''\n",
    "def train(x_data, y_data, subjects, kernel_type):\n",
    "    \n",
    "    # scramble labels\n",
    "    \n",
    "    for outer_subject in range(len(subjects)):\n",
    "\n",
    "        # set aside outer subject\n",
    "\n",
    "        for inner_subject in range(len(subjects)):\n",
    "\n",
    "            if inner_subject == outer_subject:\n",
    "                continue\n",
    "\n",
    "            x_train, y_train, x_test, y_test = # get data    \n",
    "                \n",
    "            # train model\n",
    "            # type of kernel will change\n",
    "            svclassifier = SVC(kernel=kernel_type, gamma='auto', max_iter=-1)\n",
    "            svclassifier.fit(x_train, y_train)\n",
    "            \n",
    "            # set aside testing subject for inner loop\n",
    "            predict = svclassifier.predict(x_inner_test)\n",
    "            acc = svclassifier.score(x_inner_test, y_inner_test)\n",
    "\n",
    "        # test outer subject"
   ]
  },
  {
   "cell_type": "code",
   "execution_count": 7,
   "metadata": {},
   "outputs": [],
   "source": [
    "'''\n",
    "Randomly selects half of the labels in the data to switch to the other class. \n",
    "\n",
    "data:    dictionary containing the x and y data\n",
    "classes: list of the two different classes of labels\n",
    "'''\n",
    "def scramble_labels(data, classes):\n",
    "    \n",
    "    y_data = data['y']\n",
    "    for index in np.nditer(np.random.choice(len(y_data), size=len(y_data)//2, replace=False)):\n",
    "        \n",
    "        if y_data[index] == classes[0]:\n",
    "            print(\"%i: %s -> %s\" % (index, y_data[index], classes[1]))\n",
    "            y_data[index] = classes[1]\n",
    "        else:\n",
    "            print(\"%i: %s -> %s\" % (index, y_data[index], classes[0]))\n",
    "            y_data[index] = classes[0]\n",
    "            \n",
    "    data['y'] = y_data"
   ]
  },
  {
   "cell_type": "code",
   "execution_count": 8,
   "metadata": {},
   "outputs": [],
   "source": [
    "'''\n",
    "Gets a list of subject IDs, given a path to the data files\n",
    "Note: subject ID must be only 2 characters for this to work\n",
    "'''\n",
    "def get_subjects(path):\n",
    "    \n",
    "    files = os.listdir(path)\n",
    "    subjects = [f[:2] for f in files]\n",
    "    subjects.remove('ML')\n",
    "    subjects.sort()\n",
    "    \n",
    "    return subjects"
   ]
  },
  {
   "cell_type": "code",
   "execution_count": 9,
   "metadata": {},
   "outputs": [],
   "source": [
    "'''\n",
    "Gets individuals subject data.\n",
    "\n",
    "path:          directory to data files\n",
    "subject:       specific subject data to load\n",
    "suffix:        ending to filename\n",
    "roi:           0 for MT data, 1 for V1 data\n",
    "conds:         which conditional dataset to extract\n",
    "block_length:  standardized number of voxels per block\n",
    "'''\n",
    "def extract_subject_data(path, subject, suffix, roi, conds, block_length):\n",
    "    \n",
    "    x_data = []\n",
    "    y_data = []\n",
    "    \n",
    "    path_to_file = path + subject + suffix\n",
    "    mat = scipy.io.loadmat(path_to_file)['roi_scanData'][0][roi]\n",
    "        \n",
    "    for scan in range(len(mat[0])):\n",
    "            \n",
    "        for cond in conds:\n",
    "            \n",
    "            for block in range(len(mat[0][scan][0][cond][0])):\n",
    "\n",
    "                block_data = []\n",
    "                for tr in range(len(mat[0][scan][0][cond][0][block][0])):\n",
    "                    \n",
    "                    # Extract all voxel data from individual TRs\n",
    "                    block_data.extend(mat[0][scan][0][cond][0][block][0][tr][0][0][0].tolist())\n",
    "                \n",
    "                # Filters for most active voxels in each block\n",
    "                block_data.sort()\n",
    "                block_data = block_data[-block_length:]\n",
    "                \n",
    "                x_data.append(block_data)\n",
    "                y_data.append(mat[0][scan][1][cond][0])\n",
    "                \n",
    "    data = {'x': x_data, 'y': y_data}\n",
    "    return data"
   ]
  },
  {
   "cell_type": "code",
   "execution_count": 10,
   "metadata": {},
   "outputs": [],
   "source": [
    "'''\n",
    "Generates training and testing data\n",
    "'''\n",
    "def generate_data(subjects, inner_test_subject, outer_test_subject, path, suffix, block_length, roi, conds):\n",
    "    \n",
    "    x_train = []\n",
    "    y_train = []\n",
    "    x_test = []\n",
    "    y_test = []\n",
    "    \n",
    "    for subject in range(len(subjects)):\n",
    "        \n",
    "        if subject == outer_test_subject or subject == inner_test_subject:\n",
    "            continue\n",
    "        subject_data = extract_subject_data(path, subjects[subject], suffix, roi, conds, block_length)\n",
    "        x_train.extend(subject_data['x'])\n",
    "        y_train.extend(subject_data['y'])\n",
    "    \n",
    "    test_data = extract_subject_data(path, subjects[inner_test_subject], suffix, roi, conds, block_length)\n",
    "    x_test = test_data['x']\n",
    "    y_test = test_data['y']\n",
    "    \n",
    "    x_train = np.stack(x_train, axis=0)\n",
    "    y_train = np.stack(y_train, axis=0)\n",
    "    \n",
    "    return x_train, y_train, x_test, y_test"
   ]
  },
  {
   "cell_type": "markdown",
   "metadata": {},
   "source": [
    "### Debugging"
   ]
  },
  {
   "cell_type": "code",
   "execution_count": 11,
   "metadata": {},
   "outputs": [
    {
     "data": {
      "text/plain": [
       "0.5"
      ]
     },
     "execution_count": 11,
     "metadata": {},
     "output_type": "execute_result"
    }
   ],
   "source": [
    "kernel_type = 'poly'\n",
    "path = r'scans/output/PRE/'\n",
    "suffix = \"PRE_EVERY_TR_roi.mat\"\n",
    "roi = 1                            # V1-roi: 0, MT-roi: 1\n",
    "conds = [1, 3]                     # trained_cp: 0, trained_ip: 1, untrained_cp: 2, untrained_ip: 3\n",
    "subjects = get_subjects(path)\n",
    "block_length = 624                 # minimum block length\n",
    "\n",
    "inner_subject = 3\n",
    "outer_subject = 0\n",
    "x_train, y_train, x_test, y_test = generate_data(subjects, inner_subject, outer_subject, path, suffix, block_length, roi, conds)\n",
    "svclassifier = SVC(kernel=kernel_type, gamma='auto', max_iter=-1)\n",
    "svclassifier.fit(x_train, y_train)\n",
    "\n",
    "svclassifier.score(x_test, y_test)\n"
   ]
  },
  {
   "cell_type": "code",
   "execution_count": 837,
   "metadata": {},
   "outputs": [],
   "source": [
    "kernel_type = 'sigmoid'\n",
    "path = r'scans/output/PRE/'\n",
    "suffix = \"PRE_EVERY_TR_roi.mat\"\n",
    "roi = 1                            # V1-roi: 0, MT-roi: 1\n",
    "conds = [1, 3]                     # trained_cp: 0, trained_ip: 1, untrained_cp: 2, untrained_ip: 3\n",
    "subjects = get_subjects(path)\n",
    "block_length = 624                 # minimum block length\n",
    "\n",
    "data = extract_subject_data(path, subjects[2], suffix, roi, conds, block_length)\n",
    "#svclassifier = SVC(kernel=kernel_type, gamma='auto', max_iter=-1)\n",
    "#svclassifier.fit(data['x'], data['y'])"
   ]
  },
  {
   "cell_type": "code",
   "execution_count": 734,
   "metadata": {},
   "outputs": [
    {
     "data": {
      "text/plain": [
       "0.625"
      ]
     },
     "execution_count": 734,
     "metadata": {},
     "output_type": "execute_result"
    }
   ],
   "source": [
    "test_data = extract_subject_data(path, subjects[1], suffix, roi, conds, block_length)\n",
    "svclassifier.score(test_data['x'], test_data['y'])"
   ]
  },
  {
   "cell_type": "code",
   "execution_count": 735,
   "metadata": {},
   "outputs": [
    {
     "name": "stdout",
     "output_type": "stream",
     "text": [
      "9: trained_ip -> untrained_ip\n",
      "8: trained_ip -> untrained_ip\n",
      "10: untrained_ip -> trained_ip\n",
      "5: trained_ip -> untrained_ip\n",
      "1: trained_ip -> untrained_ip\n",
      "3: untrained_ip -> trained_ip\n"
     ]
    }
   ],
   "source": [
    "classes = ['trained_ip', 'untrained_ip']\n",
    "\n",
    "data = extract_subject_data(path, subjects[0], suffix, roi, conds, block_length)\n",
    "scramble_labels(data, classes)"
   ]
  },
  {
   "cell_type": "markdown",
   "metadata": {},
   "source": [
    "### Accuracy Report"
   ]
  },
  {
   "cell_type": "code",
   "execution_count": null,
   "metadata": {},
   "outputs": [],
   "source": [
    "from sklearn.metrics import classification_report, confusion_matrix\n",
    "\n",
    "print(confusion_matrix(y_test, y_pred))\n",
    "print(classification_report(y_test, y_pred))"
   ]
  },
  {
   "cell_type": "code",
   "execution_count": null,
   "metadata": {},
   "outputs": [],
   "source": []
  }
 ],
 "metadata": {
  "kernelspec": {
   "display_name": "Python 3",
   "language": "python",
   "name": "python3"
  },
  "language_info": {
   "codemirror_mode": {
    "name": "ipython",
    "version": 3
   },
   "file_extension": ".py",
   "mimetype": "text/x-python",
   "name": "python",
   "nbconvert_exporter": "python",
   "pygments_lexer": "ipython3",
   "version": "3.6.0"
  }
 },
 "nbformat": 4,
 "nbformat_minor": 2
}

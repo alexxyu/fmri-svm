{
 "cells": [
  {
   "cell_type": "code",
   "execution_count": 1,
   "metadata": {},
   "outputs": [],
   "source": [
    "import numpy as np\n",
    "import pandas as pd\n",
    "import matplotlib.pyplot as plt\n",
    "import seaborn as sns\n",
    "import scipy\n",
    "import glob"
   ]
  },
  {
   "cell_type": "code",
   "execution_count": 2,
   "metadata": {},
   "outputs": [],
   "source": [
    "def df_to_arr(df):\n",
    "    \n",
    "    vals = []\n",
    "    for _, row in df.iterrows():\n",
    "        vals.extend(row.tolist())\n",
    "    return np.array([x for x in vals if str(x) != 'nan'])"
   ]
  },
  {
   "cell_type": "markdown",
   "metadata": {},
   "source": [
    "# IP Significance Tests"
   ]
  },
  {
   "cell_type": "markdown",
   "metadata": {},
   "source": [
    "### 1. Paired t-test"
   ]
  },
  {
   "cell_type": "code",
   "execution_count": 3,
   "metadata": {},
   "outputs": [
    {
     "data": {
      "text/plain": [
       "Ttest_relResult(statistic=3.252723235208647, pvalue=0.006921391998862281)"
      ]
     },
     "execution_count": 3,
     "metadata": {},
     "output_type": "execute_result"
    }
   ],
   "source": [
    "scrambled_data = np.load('output/mt/pre_ip/outer_dist.npy')\n",
    "avgs_scrambled = []\n",
    "\n",
    "num_subjects = 13\n",
    "run_size = num_subjects * (num_subjects-1)\n",
    "sub_num_per_run=num_subjects-1\n",
    "num_runs = len(scrambled_data) // run_size\n",
    "for i in range(num_subjects):\n",
    "    \n",
    "    subj_vals = []\n",
    "    for j in range(num_runs):\n",
    "        subj_vals.extend(scrambled_data[sub_num_per_run*num_subjects*j+sub_num_per_run*i:sub_num_per_run*num_subjects*j+sub_num_per_run*(i+1)])\n",
    "    avgs_scrambled.append(np.mean(subj_vals))\n",
    "\n",
    "unscrambled_data = df_to_arr(pd.read_csv('output/mt/pre_ip/outer_accs.csv', index_col=0))\n",
    "avgs_unscrambled = []\n",
    "for i in range(num_subjects):\n",
    "    avgs_unscrambled.append(np.mean(unscrambled_data[i*sub_num_per_run:(i+1)*sub_num_per_run]))\n",
    "    \n",
    "scipy.stats.ttest_rel(avgs_unscrambled, avgs_scrambled)"
   ]
  },
  {
   "cell_type": "markdown",
   "metadata": {},
   "source": [
    "### 2. Paired t-test with Danny's data"
   ]
  },
  {
   "cell_type": "code",
   "execution_count": 4,
   "metadata": {},
   "outputs": [
    {
     "data": {
      "text/plain": [
       "Ttest_relResult(statistic=3.4382338781260313, pvalue=0.004910453515644832)"
      ]
     },
     "execution_count": 4,
     "metadata": {},
     "output_type": "execute_result"
    }
   ],
   "source": [
    "avgs_unscrambled = [0.5582,0.5055,0.5955,0.5723,0.5673,0.4210,0.5712,0.6276,0.6045,0.5803,0.5000,0.5165,0.5641]\n",
    "avgs_scrambled = [0.5082,0.5012,0.5029,0.5271,0.5109,0.4865,0.5133,0.5151,0.5200,0.5202,0.4958,0.5012,0.5114]\n",
    "scipy.stats.ttest_rel(avgs_unscrambled, avgs_scrambled)"
   ]
  },
  {
   "cell_type": "markdown",
   "metadata": {},
   "source": [
    "### 3. Z significance test"
   ]
  },
  {
   "cell_type": "code",
   "execution_count": 5,
   "metadata": {},
   "outputs": [
    {
     "name": "stdout",
     "output_type": "stream",
     "text": [
      "z-score: 3.071639941758283\n",
      "p-value: 0.0010644317378520596\n"
     ]
    }
   ],
   "source": [
    "outer_scrambled = np.load('output/mt/pre_ip/outer_dist.npy')\n",
    "avgs_scrambled = []\n",
    "for i in range(len(outer_scrambled)//run_size):\n",
    "    sample = outer_scrambled[run_size*i:run_size*(i+1)]\n",
    "    avgs_scrambled.append(np.mean(sample))\n",
    "    \n",
    "avgs_mean = np.mean(avgs_scrambled)\n",
    "avgs_std = np.std(avgs_scrambled)\n",
    "\n",
    "outer_unscrambled = df_to_arr(pd.read_csv('output/mt/pre_ip/outer_accs.csv', index_col=0))\n",
    "avg_unscrambled = np.mean(outer_unscrambled)\n",
    "\n",
    "z_score = (avg_unscrambled - avgs_mean) / avgs_std\n",
    "print(f\"z-score: {z_score}\")\n",
    "print(f\"p-value: {scipy.stats.norm.sf(abs(z_score))}\")"
   ]
  },
  {
   "cell_type": "markdown",
   "metadata": {},
   "source": [
    "### 4. Intrasubject paired t-test"
   ]
  },
  {
   "cell_type": "code",
   "execution_count": 18,
   "metadata": {},
   "outputs": [
    {
     "data": {
      "text/plain": [
       "Ttest_relResult(statistic=19.95415107573414, pvalue=1.4326660368747702e-10)"
      ]
     },
     "execution_count": 18,
     "metadata": {},
     "output_type": "execute_result"
    }
   ],
   "source": [
    "sub_num_per_run = 200\n",
    "num_subjects = 13\n",
    "run_size = num_subjects * sub_num_per_run\n",
    "\n",
    "scrambled_data = np.load('output/mt/pre_ip/outer_perms_within.npy')\n",
    "num_runs = len(scrambled_data) // run_size\n",
    "avg_data_unscrambled = pd.read_csv('output/mt/pre_ip/outer_accs_within.csv', index_col=0)['Average'].tolist()\n",
    "\n",
    "avg_data_scrambled = []\n",
    "for i in range(num_subjects):\n",
    "    subj_data = []\n",
    "    for j in range(num_runs):\n",
    "        subj_data.extend(scrambled_data[sub_num_per_run*num_subjects*j+sub_num_per_run*i:sub_num_per_run*num_subjects*j+sub_num_per_run*(i+1)])\n",
    "    avg_data_scrambled.append(np.mean(subj_data))\n",
    "    \n",
    "scipy.stats.ttest_rel(avg_data_unscrambled, avg_data_scrambled)"
   ]
  },
  {
   "cell_type": "markdown",
   "metadata": {},
   "source": [
    "### 5. Intrasubject z significance test"
   ]
  },
  {
   "cell_type": "code",
   "execution_count": 20,
   "metadata": {},
   "outputs": [
    {
     "name": "stdout",
     "output_type": "stream",
     "text": [
      "z-score: 57.74933074143386\n",
      "p-value: 0.0\n"
     ]
    }
   ],
   "source": [
    "avg_unscrambled = np.mean(df_to_arr(pd.read_csv('output/mt/pre_ip/outer_accs_within.csv', index_col=0).drop(['Average'], axis=1)))\n",
    "\n",
    "scrambled_data = np.load('output/mt/pre_ip/outer_perms_within.npy')\n",
    "avgs_scrambled = []\n",
    "for i in range(num_runs):\n",
    "    avgs_scrambled.append(np.mean(scrambled_data[i*sub_num_per_run*num_subjects: (i+1)*sub_num_per_run*num_subjects]))\n",
    "    \n",
    "avgs_mean = np.mean(avgs_scrambled)\n",
    "avgs_std = np.std(avgs_scrambled)\n",
    "    \n",
    "z_score = (avg_unscrambled - avgs_mean) / avgs_std\n",
    "print(f\"z-score: {z_score}\")\n",
    "print(f\"p-value: {scipy.stats.norm.sf(abs(z_score))}\")\n"
   ]
  },
  {
   "cell_type": "markdown",
   "metadata": {},
   "source": [
    "# CP Significance Tests"
   ]
  },
  {
   "cell_type": "markdown",
   "metadata": {},
   "source": [
    "### 1. Paired t-test"
   ]
  },
  {
   "cell_type": "code",
   "execution_count": 21,
   "metadata": {},
   "outputs": [
    {
     "data": {
      "text/plain": [
       "Ttest_relResult(statistic=6.428979023793742, pvalue=3.2598455071448e-05)"
      ]
     },
     "execution_count": 21,
     "metadata": {},
     "output_type": "execute_result"
    }
   ],
   "source": [
    "scrambled_data = np.load('output/mt/pre_cp/outer_dist.npy')\n",
    "avgs_scrambled = []\n",
    "\n",
    "num_subjects = 13\n",
    "run_size = num_subjects * (num_subjects-1)\n",
    "num_runs = len(scrambled_data) // run_size\n",
    "sub_num_per_run=num_subjects-1\n",
    "for i in range(num_subjects):\n",
    "    \n",
    "    subj_vals = []\n",
    "    for j in range(num_runs):\n",
    "        subj_vals.extend(scrambled_data[sub_num_per_run*num_subjects*j+sub_num_per_run*i:sub_num_per_run*num_subjects*j+sub_num_per_run*(i+1)])\n",
    "    avgs_scrambled.append(np.mean(subj_vals))\n",
    "\n",
    "unscrambled_data = df_to_arr(pd.read_csv('output/mt/pre_cp/outer_accs.csv', index_col=0))\n",
    "avgs_unscrambled = []\n",
    "for i in range(num_subjects):\n",
    "    avgs_unscrambled.append(np.mean(unscrambled_data[i*sub_num_per_run:(i+1)*sub_num_per_run]))\n",
    "    \n",
    "scipy.stats.ttest_rel(avgs_unscrambled, avgs_scrambled)"
   ]
  },
  {
   "cell_type": "markdown",
   "metadata": {},
   "source": [
    "### 2. Paired t-test with Danny's data"
   ]
  },
  {
   "cell_type": "code",
   "execution_count": 22,
   "metadata": {},
   "outputs": [
    {
     "data": {
      "text/plain": [
       "Ttest_relResult(statistic=6.1308763902072165, pvalue=5.091694590940324e-05)"
      ]
     },
     "execution_count": 22,
     "metadata": {},
     "output_type": "execute_result"
    }
   ],
   "source": [
    "avgs_unscrambled = [0.5460,0.5612,0.5707,0.5781,0.5807,0.5291,0.5729,0.4800,0.5697,0.5278,0.5589,0.5373,0.5599]\n",
    "avgs_scrambled = [0.5064,0.5152,0.5019,0.5221,0.5072,0.5072,0.5180,0.4944,0.5289,0.4963,0.5090,0.5254,0.5172]\n",
    "scipy.stats.ttest_rel(avgs_unscrambled, avgs_scrambled)"
   ]
  },
  {
   "cell_type": "markdown",
   "metadata": {},
   "source": [
    "### 3. Z significance test"
   ]
  },
  {
   "cell_type": "code",
   "execution_count": 23,
   "metadata": {},
   "outputs": [
    {
     "name": "stdout",
     "output_type": "stream",
     "text": [
      "z-score: 3.394810414939704\n",
      "p-value: 0.0003433806920417049\n"
     ]
    }
   ],
   "source": [
    "scrambled_data = np.load('output/mt/pre_cp/outer_dist.npy')\n",
    "avgs_scrambled = []\n",
    "\n",
    "run_size=num_subjects*(num_subjects-1)\n",
    "for i in range(len(scrambled_data)//run_size):\n",
    "    sample = scrambled_data[run_size*i:run_size*(i+1)]\n",
    "    avgs_scrambled.append(np.mean(sample))\n",
    "\n",
    "avgs_mean = np.mean(avgs_scrambled)\n",
    "avgs_std = np.std(avgs_scrambled)\n",
    "\n",
    "unscrambled_data = df_to_arr(pd.read_csv('output/mt/pre_cp/outer_accs.csv', index_col=0))\n",
    "avg_unscrambled = np.mean(unscrambled_data)\n",
    "\n",
    "z_score = (avg_unscrambled - avgs_mean) / avgs_std\n",
    "print(f\"z-score: {z_score}\")\n",
    "print(f\"p-value: {scipy.stats.norm.sf(abs(z_score))}\")"
   ]
  },
  {
   "cell_type": "markdown",
   "metadata": {},
   "source": [
    "### 4. Intrasubject paired t-test"
   ]
  },
  {
   "cell_type": "code",
   "execution_count": 24,
   "metadata": {},
   "outputs": [
    {
     "data": {
      "text/plain": [
       "Ttest_relResult(statistic=15.046905621651907, pvalue=3.750100801153465e-09)"
      ]
     },
     "execution_count": 24,
     "metadata": {},
     "output_type": "execute_result"
    }
   ],
   "source": [
    "num_runs = 30\n",
    "sub_num_per_run = 200\n",
    "num_subjects = 13\n",
    "run_size = num_subjects * sub_num_per_run\n",
    "\n",
    "scrambled_data = np.load('output/mt/pre_cp/outer_perms_within.npy')\n",
    "avg_data_unscrambled = pd.read_csv('output/mt/pre_cp/outer_accs_within.csv', index_col=0)['Average'].tolist()\n",
    "\n",
    "avg_data_scrambled = []\n",
    "for i in range(num_subjects):\n",
    "    subj_data = []\n",
    "    for j in range(num_runs):\n",
    "        subj_data.extend(scrambled_data[sub_num_per_run*num_subjects*j+sub_num_per_run*i:sub_num_per_run*num_subjects*j+sub_num_per_run*(i+1)])\n",
    "    avg_data_scrambled.append(np.mean(subj_data))\n",
    "    \n",
    "scipy.stats.ttest_rel(avg_data_unscrambled, avg_data_scrambled)"
   ]
  },
  {
   "cell_type": "markdown",
   "metadata": {},
   "source": [
    "### 5. Intrasubject z significance test"
   ]
  },
  {
   "cell_type": "code",
   "execution_count": 25,
   "metadata": {},
   "outputs": [
    {
     "name": "stdout",
     "output_type": "stream",
     "text": [
      "z-score: 55.66731805114806\n",
      "p-value: 0.0\n"
     ]
    }
   ],
   "source": [
    "avg_unscrambled = np.mean(df_to_arr(pd.read_csv('output/mt/pre_cp/outer_accs_within.csv', index_col=0).drop(['Average'], axis=1)))\n",
    "\n",
    "scrambled_data = np.load('output/mt/pre_cp/outer_perms_within.npy')\n",
    "avgs_scrambled = []\n",
    "for i in range(num_runs):\n",
    "    avgs_scrambled.append(np.mean(scrambled_data[i*sub_num_per_run*num_subjects: (i+1)*sub_num_per_run*num_subjects]))\n",
    "    \n",
    "avgs_mean = np.mean(avgs_scrambled)\n",
    "avgs_std = np.std(avgs_scrambled)    \n",
    "    \n",
    "z_score = (avg_unscrambled - avgs_mean) / avgs_std\n",
    "print(f\"z-score: {z_score}\")\n",
    "print(f\"p-value: {scipy.stats.norm.sf(abs(z_score))}\")\n"
   ]
  },
  {
   "cell_type": "code",
   "execution_count": null,
   "metadata": {},
   "outputs": [],
   "source": []
  }
 ],
 "metadata": {
  "kernelspec": {
   "display_name": "Python 3",
   "language": "python",
   "name": "python3"
  },
  "language_info": {
   "codemirror_mode": {
    "name": "ipython",
    "version": 3
   },
   "file_extension": ".py",
   "mimetype": "text/x-python",
   "name": "python",
   "nbconvert_exporter": "python",
   "pygments_lexer": "ipython3",
   "version": "3.6.0"
  }
 },
 "nbformat": 4,
 "nbformat_minor": 2
}

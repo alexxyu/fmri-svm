{
 "cells": [
  {
   "cell_type": "markdown",
   "metadata": {},
   "source": [
    "# Training SVM\n",
    "\n",
    "<a href=\"https://www.csie.ntu.edu.tw/~cjlin/papers/guide/guide.pdf\">Guide to SVM Training</a>\n",
    "\n",
    "### To-do:\n",
    "<ul>\n",
    "    <li> Find and track optimal parameters for SVM </li>\n",
    "    <li> Modify generate data function to include outside subject data w/ normalization </li>\n",
    "    <li> Track accuracy report </li>\n",
    "</ul>"
   ]
  },
  {
   "cell_type": "code",
   "execution_count": 311,
   "metadata": {},
   "outputs": [],
   "source": [
    "import os\n",
    "import time\n",
    "import math\n",
    "import numpy as np\n",
    "import pandas as pd\n",
    "import matplotlib.pyplot as plt\n",
    "import scipy.io\n",
    "from sklearn.svm import SVC\n",
    "from sklearn.preprocessing import MinMaxScaler\n",
    "from sklearn.model_selection import GridSearchCV\n",
    "from IPython.display import clear_output"
   ]
  },
  {
   "cell_type": "code",
   "execution_count": 12,
   "metadata": {},
   "outputs": [
    {
     "data": {
      "text/plain": [
       "['AT', 'CC', 'CG', 'GD', 'JM', 'JR', 'JS', 'NL', 'RK', 'SC', 'TP', 'YY']"
      ]
     },
     "execution_count": 12,
     "metadata": {},
     "output_type": "execute_result"
    }
   ],
   "source": [
    "subjects"
   ]
  },
  {
   "cell_type": "code",
   "execution_count": 25,
   "metadata": {},
   "outputs": [],
   "source": [
    "'''\n",
    "Gets a list of subject IDs and file suffix, given a path to the data files\n",
    "\n",
    "Note: subject ID must be only 2 characters for this to work, and all data files\n",
    "must have same suffix\n",
    "'''\n",
    "def get_subjects(path):\n",
    "    \n",
    "    files = os.listdir(path)\n",
    "    subjects = [f[:2] for f in files]\n",
    "    suffix = files[0][2:]\n",
    "    subjects.remove('ML')\n",
    "    subjects.sort()\n",
    "    \n",
    "    return subjects, suffix"
   ]
  },
  {
   "cell_type": "code",
   "execution_count": 58,
   "metadata": {},
   "outputs": [],
   "source": [
    "'''\n",
    "Randomly selects half of the labels in the data to switch to the other class. \n",
    "\n",
    "y_data:   list of the label data\n",
    "classes:  list of the two different classes of labels\n",
    "'''\n",
    "def scramble_labels(y_data, classes):\n",
    "    \n",
    "    for index in np.nditer(np.random.choice(len(y_data), size=len(y_data)//2, replace=False)):\n",
    "        \n",
    "        if y_data[index] == classes[0]:\n",
    "            # print(\"%i: %s -> %s\" % (index, y_data[index], classes[1]))\n",
    "            y_data[index] = classes[1]\n",
    "        else:\n",
    "            # print(\"%i: %s -> %s\" % (index, y_data[index], classes[0]))\n",
    "            y_data[index] = classes[0]\n"
   ]
  },
  {
   "cell_type": "code",
   "execution_count": 9,
   "metadata": {},
   "outputs": [],
   "source": [
    "'''\n",
    "Gets individuals subject data.\n",
    "\n",
    "path:          directory to data files\n",
    "subject:       specific subject data to load\n",
    "suffix:        ending to filename\n",
    "roi:           0 for MT data, 1 for V1 data\n",
    "conds:         which conditional dataset to extract\n",
    "block_length:  standardized number of voxels per block\n",
    "'''\n",
    "def extract_subject_data(path, subject, suffix, roi, conds, block_length):\n",
    "    \n",
    "    x_data = []\n",
    "    y_data = []\n",
    "    \n",
    "    path_to_file = path + subject + suffix\n",
    "    mat = scipy.io.loadmat(path_to_file)['roi_scanData'][0][roi]\n",
    "        \n",
    "    for scan in range(len(mat[0])):\n",
    "            \n",
    "        for cond in conds:\n",
    "            \n",
    "            for block in range(len(mat[0][scan][0][cond][0])):\n",
    "\n",
    "                block_data = []\n",
    "                for tr in range(len(mat[0][scan][0][cond][0][block][0])):\n",
    "                    \n",
    "                    # Extract all voxel data from individual TRs\n",
    "                    block_data.extend(mat[0][scan][0][cond][0][block][0][tr][0][0][0].tolist())\n",
    "                \n",
    "                # Filters for most active voxels in each block\n",
    "                block_data.sort()\n",
    "                block_data = block_data[-block_length:]\n",
    "                \n",
    "                x_data.append(block_data)\n",
    "                y_data.append(mat[0][scan][1][cond][0])\n",
    "                \n",
    "    data = {'x': x_data, 'y': y_data}\n",
    "    return data"
   ]
  },
  {
   "cell_type": "code",
   "execution_count": 344,
   "metadata": {},
   "outputs": [],
   "source": [
    "'''\n",
    "Performs grid search to find best possible parameters from selections to train data.\n",
    "'''\n",
    "def get_optimal_params(x_data, y_data, gamma_range, C_range):\n",
    "    \n",
    "    gamma_vals = np.logspace(gamma_range['start'], gamma_range['stop'], gamma_range['num'], base=gamma_range['base'])\n",
    "    C_vals = np.logspace(C_range['start'], C_range['stop'], C_range['num'], base=C_range['base'])\n",
    "    \n",
    "    tuned_params = [{'kernel': ['linear', 'rbf', 'sigmoid'], 'gamma': gamma_vals, 'C': C_vals}]\n",
    "    \n",
    "    clf = GridSearchCV(SVC(), tuned_params, cv=5, iid=True)\n",
    "    clf.fit(x_data, y_data)\n",
    "    \n",
    "    round1_params = clf.best_params_\n",
    "    \n",
    "    gamma_exp = math.log(round1_params['gamma'], gamma_range['base'])\n",
    "    C_exp = math.log(round1_params['C'], C_range['base'])\n",
    "    \n",
    "    new_gamma_range = np.logspace(gamma_exp-1, gamma_exp+1, 6, base=gamma_range['base'])\n",
    "    new_C_range = np.logspace(C_exp-1, C_exp+1, 6, base=C_range['base'])\n",
    "    \n",
    "    tuned_params = [{'kernel': [round1_params['kernel']], 'gamma': new_gamma_range, 'C': new_C_range}]\n",
    "    \n",
    "    clf = GridSearchCV(SVC(), tuned_params, cv=5, iid=True)\n",
    "    clf.fit(x_data, y_data)\n",
    "    \n",
    "    return clf.best_params_\n",
    "    "
   ]
  },
  {
   "cell_type": "code",
   "execution_count": 241,
   "metadata": {},
   "outputs": [],
   "source": [
    "'''\n",
    "Generates training and testing data.\n",
    "'''\n",
    "def generate_data(subjects, inner_test_subject, outer_test_subject, path, suffix, block_length, roi, conds):\n",
    "    \n",
    "    data = []\n",
    "    \n",
    "    x_train = []\n",
    "    y_train = []\n",
    "    \n",
    "    x_test_inner = []\n",
    "    y_test_inner = []\n",
    "    \n",
    "    x_test_outer = []\n",
    "    y_test_outer = []\n",
    "    \n",
    "    for subject in range(len(subjects)):\n",
    "        \n",
    "        subject_data = extract_subject_data(path, subjects[subject], suffix, roi, conds, block_length)\n",
    "        if subject == outer_test_subject:\n",
    "            x_test_outer.extend(subject_data['x'])\n",
    "            y_test_outer.extend(subject_data['y'])\n",
    "        elif subject == inner_test_subject:\n",
    "            x_test_inner.extend(subject_data['x'])\n",
    "            y_test_inner.extend(subject_data['y'])\n",
    "        else:\n",
    "            x_train.extend(subject_data['x'])\n",
    "            y_train.extend(subject_data['y'])\n",
    "    \n",
    "    x_train_len = len(x_train)\n",
    "    x_test_outer_len = len(x_test_outer)\n",
    "    \n",
    "    data.extend(x_train)\n",
    "    data.extend(x_test_outer)\n",
    "    data.extend(x_test_inner)\n",
    "    \n",
    "    # MinMaxScaler scales each feature to values between 0 and 1 among all x data\n",
    "    scaler = MinMaxScaler(feature_range=(0, 1))\n",
    "    x_normalized = scaler.fit_transform(data)\n",
    "    x_train, x_test_outer, x_test_inner = x_normalized[:x_train_len], x_normalized[x_train_len:x_train_len+x_test_outer_len], x_normalized[x_train_len+x_test_outer_len:]\n",
    "\n",
    "    y_train = np.stack(y_train, axis=0)\n",
    "    \n",
    "    return x_train, y_train, x_test_inner, y_test_inner, x_test_outer, y_test_outer"
   ]
  },
  {
   "cell_type": "code",
   "execution_count": 347,
   "metadata": {},
   "outputs": [],
   "source": [
    "'''\n",
    "Trains the classifier, uses nested cross-validation.\n",
    "\n",
    "path:          path to data files\n",
    "roi:           0 for V1, 1 for MT\n",
    "conds:         which conditional dataset to extract\n",
    "block_length:  standardized number of voxels per block\n",
    "scramble:      boolean value specifying whether training labels should be scrambled\n",
    "'''\n",
    "def train(path, roi, conds, block_length, gamma_range, C_range, scramble=False):\n",
    "    \n",
    "    subjects, suffix = get_subjects(path)\n",
    "    acc_report = pd.DataFrame(index=subjects, columns=subjects)\n",
    "    outer_accs = []\n",
    "    \n",
    "    for outer_subject in range(len(subjects)):\n",
    "        \n",
    "        print(\"Currently on outer subject #%i.\" % (outer_subject))\n",
    "\n",
    "        dummy_subject = 0\n",
    "        if outer_subject == 0:\n",
    "            dummy_subject = 1;\n",
    "        _, _, _, _, x_test_outer, y_test_outer = generate_data(subjects, dummy_subject, outer_subject, path, suffix, block_length, roi, conds)\n",
    "        \n",
    "        best_params = None\n",
    "        best_acc = None\n",
    "        start_time = time.time()\n",
    "        \n",
    "        for inner_subject in range(len(subjects)):\n",
    "\n",
    "            if inner_subject == outer_subject:\n",
    "                continue\n",
    "\n",
    "            print(\"Currently on inner subject #%i.\" % (inner_subject))    \n",
    "            x_train, y_train, x_test, y_test, _, _ = generate_data(subjects, inner_subject, outer_subject, path, suffix, block_length, roi, conds)\n",
    "            \n",
    "            if scramble:\n",
    "                scramble_labels(y_train, classes)\n",
    "                \n",
    "            params = get_optimal_params(x_train, y_train, gamma_range, C_range)    \n",
    "            \n",
    "            # train model\n",
    "            svclassifier = SVC(kernel=params['kernel'], gamma=params['gamma'], C=params['C'], max_iter=-1)\n",
    "            #svclassifier = SVC(kernel=kernel_type, gamma='auto')\n",
    "            svclassifier.fit(x_train, y_train)\n",
    "            \n",
    "            acc = svclassifier.score(x_train, y_train)\n",
    "            if best_params == None or acc > best_acc:\n",
    "                best_params = params\n",
    "                best_acc = acc\n",
    "            \n",
    "            index = subjects[outer_subject]\n",
    "            col = subjects[inner_subject]\n",
    "            acc_report.at[index, col] = acc\n",
    "\n",
    "        print('Testing outer subject...')\n",
    "        svclassifier = SVC(kernel=best_params['kernel'], gamma=best_params['gamma'], C=best_params['C'], max_iter=-1)\n",
    "        svclassifier.fit(x_test_outer, y_test_outer)\n",
    "        clear_output()\n",
    "        \n",
    "        outer_acc = svclassifier.score(x_test_outer, y_test_outer)\n",
    "        outer_accs.append(acc)\n",
    "        \n",
    "        end_time = time.time()\n",
    "        exec_time = end_time - start_time\n",
    "        minutes = exec_time // 60\n",
    "        seconds = exec_time % 60\n",
    "        print('Last turn took %i minutes and %f seconds.' % (minutes, seconds))\n",
    "    \n",
    "    clear_output()\n",
    "    return acc_report, outer_accs"
   ]
  },
  {
   "cell_type": "markdown",
   "metadata": {},
   "source": [
    "## Training model for accuracy\n",
    "\n",
    "For rbf kernel, should check grid points to find good values of C and gamma (necessary for performance) <br>\n",
    "<a href=\"https://scikit-learn.org/stable/modules/svm.html#parameters-of-the-rbf-kernel\"> sklearn.model_selection.GridSearchCV </a><br>"
   ]
  },
  {
   "cell_type": "code",
   "execution_count": null,
   "metadata": {},
   "outputs": [
    {
     "name": "stdout",
     "output_type": "stream",
     "text": [
      "Currently on outer subject #0.\n",
      "Currently on inner subject #1.\n",
      "{'C': 128.0, 'gamma': 0.125, 'kernel': 'rbf'}\n",
      "{'C': 111.43047210190387, 'gamma': 0.1435872943746294, 'kernel': 'rbf'}\n",
      "Currently on inner subject #2.\n",
      "{'C': 2.0, 'gamma': 0.03125, 'kernel': 'sigmoid'}\n",
      "{'C': 3.0314331330207964, 'gamma': 0.03589682359365735, 'kernel': 'sigmoid'}\n",
      "Currently on inner subject #3.\n"
     ]
    }
   ],
   "source": [
    "path = r'scans/output/PRE/'\n",
    "roi = 1                            # V1-roi: 0, MT-roi: 1\n",
    "conds = [1, 3]                     # trained_cp: 0, trained_ip: 1, untrained_cp: 2, untrained_ip: 3\n",
    "block_length = 624\n",
    "\n",
    "C_range = {'start': -3, 'stop': 11, 'num': 8, 'base': 2.0}\n",
    "gamma_range = {'start': -13, 'stop': 1, 'num': 8, 'base': 2.0}\n",
    "\n",
    "accs_scrambled, outer_accs_scrambled = train(path, roi, conds, block_length, gamma_range, C_range, scramble=True)"
   ]
  },
  {
   "cell_type": "code",
   "execution_count": 266,
   "metadata": {
    "scrolled": true
   },
   "outputs": [
    {
     "name": "stdout",
     "output_type": "stream",
     "text": [
      "Testing outer subject...\n"
     ]
    }
   ],
   "source": [
    "path = r'scans/output/PRE/'\n",
    "roi = 1                            # V1-roi: 0, MT-roi: 1\n",
    "conds = [1, 3]                     # trained_cp: 0, trained_ip: 1, untrained_cp: 2, untrained_ip: 3\n",
    "block_length = 624\n",
    "\n",
    "accs, outer_accs = train(path, roi, conds, block_length)\n",
    "accs.to_csv('no_scramble.csv', sep='\\t')"
   ]
  },
  {
   "cell_type": "code",
   "execution_count": 267,
   "metadata": {},
   "outputs": [
    {
     "data": {
      "text/plain": [
       "(array([12., 74., 30.,  0.,  0.,  0.,  2.,  0.,  2., 12.]),\n",
       " array([0.47727273, 0.52954545, 0.58181818, 0.63409091, 0.68636364,\n",
       "        0.73863636, 0.79090909, 0.84318182, 0.89545455, 0.94772727,\n",
       "        1.        ]),\n",
       " <a list of 10 Patch objects>)"
      ]
     },
     "execution_count": 267,
     "metadata": {},
     "output_type": "execute_result"
    },
    {
     "data": {
      "image/png": "[encoded data removed]",
      "text/plain": [
       "<Figure size 432x288 with 1 Axes>"
      ]
     },
     "metadata": {
      "needs_background": "light"
     },
     "output_type": "display_data"
    }
   ],
   "source": [
    "vals = []\n",
    "for column in accs:\n",
    "    vals.extend(accs[column].tolist())\n",
    "vals = [x for x in vals if str(x) != 'nan']\n",
    "\n",
    "plt.hist(vals)"
   ]
  },
  {
   "cell_type": "code",
   "execution_count": 304,
   "metadata": {},
   "outputs": [
    {
     "data": {
      "image/png": "[encoded data removed]",
      "text/plain": [
       "<Figure size 720x720 with 2 Axes>"
      ]
     },
     "metadata": {
      "needs_background": "light"
     },
     "output_type": "display_data"
    }
   ],
   "source": [
    "import seaborn as sns\n",
    "\n",
    "plt.figure(figsize=(10,10))\n",
    "ax = sns.heatmap(accs.fillna(value=0), annot=True)\n",
    "bottom, top = ax.get_ylim()\n",
    "ax.set_ylim(bottom + 0.5, top - 0.5)\n",
    "ax.set_title('SVM Accuracy w/ IP Data (No scramble)')\n",
    "ax.set_ylabel('Outer Subject')\n",
    "ax.set_xlabel('Inner Subject')\n",
    "plt.savefig('acc_heatmap.png')"
   ]
  },
  {
   "cell_type": "code",
   "execution_count": null,
   "metadata": {},
   "outputs": [],
   "source": [
    "path = r'scans/output/PRE/'\n",
    "roi = 1                            # V1-roi: 0, MT-roi: 1\n",
    "conds = [1, 3]                     # trained_cp: 0, trained_ip: 1, untrained_cp: 2, untrained_ip: 3\n",
    "block_length = 624 \n",
    "\n",
    "accs, outer_accs = train(path, roi, conds, block_length)\n",
    "vals = []\n",
    "for column in accs:\n",
    "    vals.extend(accs[column].tolist())\n",
    "vals = [x for x in vals if str(x) != 'nan']\n",
    "\n",
    "plt.hist(vals)"
   ]
  },
  {
   "cell_type": "code",
   "execution_count": 119,
   "metadata": {},
   "outputs": [
    {
     "data": {
      "text/html": [
       "<div>\n",
       "<style scoped>\n",
       "    .dataframe tbody tr th:only-of-type {\n",
       "        vertical-align: middle;\n",
       "    }\n",
       "\n",
       "    .dataframe tbody tr th {\n",
       "        vertical-align: top;\n",
       "    }\n",
       "\n",
       "    .dataframe thead th {\n",
       "        text-align: right;\n",
       "    }\n",
       "</style>\n",
       "<table border=\"1\" class=\"dataframe\">\n",
       "  <thead>\n",
       "    <tr style=\"text-align: right;\">\n",
       "      <th></th>\n",
       "      <th>AT</th>\n",
       "      <th>CC</th>\n",
       "      <th>CG</th>\n",
       "      <th>GD</th>\n",
       "      <th>JM</th>\n",
       "      <th>JR</th>\n",
       "      <th>JS</th>\n",
       "      <th>NL</th>\n",
       "      <th>RK</th>\n",
       "      <th>SC</th>\n",
       "      <th>TP</th>\n",
       "      <th>YY</th>\n",
       "    </tr>\n",
       "  </thead>\n",
       "  <tbody>\n",
       "    <tr>\n",
       "      <th>AT</th>\n",
       "      <td>NaN</td>\n",
       "      <td>0.601562</td>\n",
       "      <td>0.568182</td>\n",
       "      <td>0.551471</td>\n",
       "      <td>0.55303</td>\n",
       "      <td>0.628788</td>\n",
       "      <td>0.537879</td>\n",
       "      <td>0.609375</td>\n",
       "      <td>0.575758</td>\n",
       "      <td>0.53125</td>\n",
       "      <td>0.575758</td>\n",
       "      <td>0.578125</td>\n",
       "    </tr>\n",
       "    <tr>\n",
       "      <th>CC</th>\n",
       "      <td>0.554688</td>\n",
       "      <td>NaN</td>\n",
       "      <td>0.625</td>\n",
       "      <td>0.598485</td>\n",
       "      <td>0.554688</td>\n",
       "      <td>0.5625</td>\n",
       "      <td>0.585938</td>\n",
       "      <td>0.532258</td>\n",
       "      <td>0.5625</td>\n",
       "      <td>0.524194</td>\n",
       "      <td>0.554688</td>\n",
       "      <td>0.580645</td>\n",
       "    </tr>\n",
       "    <tr>\n",
       "      <th>CG</th>\n",
       "      <td>0.575758</td>\n",
       "      <td>0.546875</td>\n",
       "      <td>NaN</td>\n",
       "      <td>0.558824</td>\n",
       "      <td>0.606061</td>\n",
       "      <td>0.545455</td>\n",
       "      <td>0.606061</td>\n",
       "      <td>0.539062</td>\n",
       "      <td>0.575758</td>\n",
       "      <td>0.585938</td>\n",
       "      <td>0.537879</td>\n",
       "      <td>0.546875</td>\n",
       "    </tr>\n",
       "    <tr>\n",
       "      <th>GD</th>\n",
       "      <td>0.566176</td>\n",
       "      <td>0.575758</td>\n",
       "      <td>0.492647</td>\n",
       "      <td>NaN</td>\n",
       "      <td>0.580882</td>\n",
       "      <td>0.610294</td>\n",
       "      <td>0.566176</td>\n",
       "      <td>0.575758</td>\n",
       "      <td>0.551471</td>\n",
       "      <td>0.568182</td>\n",
       "      <td>0.551471</td>\n",
       "      <td>0.560606</td>\n",
       "    </tr>\n",
       "    <tr>\n",
       "      <th>JM</th>\n",
       "      <td>0.583333</td>\n",
       "      <td>0.546875</td>\n",
       "      <td>0.545455</td>\n",
       "      <td>0.617647</td>\n",
       "      <td>NaN</td>\n",
       "      <td>0.55303</td>\n",
       "      <td>0.568182</td>\n",
       "      <td>0.578125</td>\n",
       "      <td>0.55303</td>\n",
       "      <td>0.570312</td>\n",
       "      <td>0.560606</td>\n",
       "      <td>0.578125</td>\n",
       "    </tr>\n",
       "    <tr>\n",
       "      <th>JR</th>\n",
       "      <td>0.575758</td>\n",
       "      <td>0.5625</td>\n",
       "      <td>0.537879</td>\n",
       "      <td>0.595588</td>\n",
       "      <td>0.530303</td>\n",
       "      <td>NaN</td>\n",
       "      <td>0.545455</td>\n",
       "      <td>0.59375</td>\n",
       "      <td>0.621212</td>\n",
       "      <td>0.578125</td>\n",
       "      <td>0.55303</td>\n",
       "      <td>0.59375</td>\n",
       "    </tr>\n",
       "    <tr>\n",
       "      <th>JS</th>\n",
       "      <td>0.621212</td>\n",
       "      <td>0.515625</td>\n",
       "      <td>0.522727</td>\n",
       "      <td>0.566176</td>\n",
       "      <td>0.560606</td>\n",
       "      <td>0.590909</td>\n",
       "      <td>NaN</td>\n",
       "      <td>0.578125</td>\n",
       "      <td>0.55303</td>\n",
       "      <td>0.546875</td>\n",
       "      <td>0.537879</td>\n",
       "      <td>0.546875</td>\n",
       "    </tr>\n",
       "    <tr>\n",
       "      <th>NL</th>\n",
       "      <td>0.554688</td>\n",
       "      <td>0.612903</td>\n",
       "      <td>0.570312</td>\n",
       "      <td>0.598485</td>\n",
       "      <td>0.554688</td>\n",
       "      <td>0.59375</td>\n",
       "      <td>0.539062</td>\n",
       "      <td>NaN</td>\n",
       "      <td>0.59375</td>\n",
       "      <td>0.556452</td>\n",
       "      <td>0.65625</td>\n",
       "      <td>0.620968</td>\n",
       "    </tr>\n",
       "    <tr>\n",
       "      <th>RK</th>\n",
       "      <td>0.55303</td>\n",
       "      <td>0.617188</td>\n",
       "      <td>0.590909</td>\n",
       "      <td>0.522059</td>\n",
       "      <td>0.55303</td>\n",
       "      <td>0.55303</td>\n",
       "      <td>0.537879</td>\n",
       "      <td>0.554688</td>\n",
       "      <td>NaN</td>\n",
       "      <td>0.539062</td>\n",
       "      <td>0.583333</td>\n",
       "      <td>0.640625</td>\n",
       "    </tr>\n",
       "    <tr>\n",
       "      <th>SC</th>\n",
       "      <td>0.523438</td>\n",
       "      <td>0.620968</td>\n",
       "      <td>0.632812</td>\n",
       "      <td>0.590909</td>\n",
       "      <td>0.585938</td>\n",
       "      <td>0.59375</td>\n",
       "      <td>0.625</td>\n",
       "      <td>0.540323</td>\n",
       "      <td>0.601562</td>\n",
       "      <td>NaN</td>\n",
       "      <td>0.632812</td>\n",
       "      <td>0.596774</td>\n",
       "    </tr>\n",
       "    <tr>\n",
       "      <th>TP</th>\n",
       "      <td>0.583333</td>\n",
       "      <td>0.554688</td>\n",
       "      <td>0.530303</td>\n",
       "      <td>0.610294</td>\n",
       "      <td>0.545455</td>\n",
       "      <td>0.55303</td>\n",
       "      <td>0.598485</td>\n",
       "      <td>0.59375</td>\n",
       "      <td>0.560606</td>\n",
       "      <td>0.515625</td>\n",
       "      <td>NaN</td>\n",
       "      <td>0.539062</td>\n",
       "    </tr>\n",
       "    <tr>\n",
       "      <th>YY</th>\n",
       "      <td>0.609375</td>\n",
       "      <td>0.645161</td>\n",
       "      <td>0.523438</td>\n",
       "      <td>0.568182</td>\n",
       "      <td>0.546875</td>\n",
       "      <td>0.601562</td>\n",
       "      <td>0.554688</td>\n",
       "      <td>0.556452</td>\n",
       "      <td>0.53125</td>\n",
       "      <td>0.556452</td>\n",
       "      <td>0.570312</td>\n",
       "      <td>NaN</td>\n",
       "    </tr>\n",
       "  </tbody>\n",
       "</table>\n",
       "</div>"
      ],
      "text/plain": [
       "          AT        CC        CG        GD        JM        JR        JS  \\\n",
       "AT       NaN  0.601562  0.568182  0.551471   0.55303  0.628788  0.537879   \n",
       "CC  0.554688       NaN     0.625  0.598485  0.554688    0.5625  0.585938   \n",
       "CG  0.575758  0.546875       NaN  0.558824  0.606061  0.545455  0.606061   \n",
       "GD  0.566176  0.575758  0.492647       NaN  0.580882  0.610294  0.566176   \n",
       "JM  0.583333  0.546875  0.545455  0.617647       NaN   0.55303  0.568182   \n",
       "JR  0.575758    0.5625  0.537879  0.595588  0.530303       NaN  0.545455   \n",
       "JS  0.621212  0.515625  0.522727  0.566176  0.560606  0.590909       NaN   \n",
       "NL  0.554688  0.612903  0.570312  0.598485  0.554688   0.59375  0.539062   \n",
       "RK   0.55303  0.617188  0.590909  0.522059   0.55303   0.55303  0.537879   \n",
       "SC  0.523438  0.620968  0.632812  0.590909  0.585938   0.59375     0.625   \n",
       "TP  0.583333  0.554688  0.530303  0.610294  0.545455   0.55303  0.598485   \n",
       "YY  0.609375  0.645161  0.523438  0.568182  0.546875  0.601562  0.554688   \n",
       "\n",
       "          NL        RK        SC        TP        YY  \n",
       "AT  0.609375  0.575758   0.53125  0.575758  0.578125  \n",
       "CC  0.532258    0.5625  0.524194  0.554688  0.580645  \n",
       "CG  0.539062  0.575758  0.585938  0.537879  0.546875  \n",
       "GD  0.575758  0.551471  0.568182  0.551471  0.560606  \n",
       "JM  0.578125   0.55303  0.570312  0.560606  0.578125  \n",
       "JR   0.59375  0.621212  0.578125   0.55303   0.59375  \n",
       "JS  0.578125   0.55303  0.546875  0.537879  0.546875  \n",
       "NL       NaN   0.59375  0.556452   0.65625  0.620968  \n",
       "RK  0.554688       NaN  0.539062  0.583333  0.640625  \n",
       "SC  0.540323  0.601562       NaN  0.632812  0.596774  \n",
       "TP   0.59375  0.560606  0.515625       NaN  0.539062  \n",
       "YY  0.556452   0.53125  0.556452  0.570312       NaN  "
      ]
     },
     "execution_count": 119,
     "metadata": {},
     "output_type": "execute_result"
    }
   ],
   "source": [
    "accs"
   ]
  },
  {
   "cell_type": "code",
   "execution_count": 272,
   "metadata": {},
   "outputs": [
    {
     "data": {
      "text/plain": [
       "[0.5546875,\n",
       " 0.5241935483870968,\n",
       " 0.5546875,\n",
       " 0.5606060606060606,\n",
       " 0.5234375,\n",
       " 0.5625,\n",
       " 0.5390625,\n",
       " 0.5080645161290323,\n",
       " 0.53125,\n",
       " 0.532258064516129,\n",
       " 0.5390625,\n",
       " 0.5390625]"
      ]
     },
     "execution_count": 272,
     "metadata": {},
     "output_type": "execute_result"
    }
   ],
   "source": [
    "outer_accs"
   ]
  },
  {
   "cell_type": "markdown",
   "metadata": {},
   "source": [
    "## Histograms of Different Kernel Accuracies\n",
    "\n",
    "Note: This is without parameter grid search"
   ]
  },
  {
   "cell_type": "code",
   "execution_count": 250,
   "metadata": {},
   "outputs": [
    {
     "name": "stdout",
     "output_type": "stream",
     "text": [
      "Currently testing linear kernel.\n",
      "Currently testing rbf kernel.\n",
      "Currently testing poly kernel.\n",
      "Currently testing sigmoid kernel.\n"
     ]
    },
    {
     "data": {
      "image/png": "[encoded data removed]",
      "text/plain": [
       "<Figure size 1152x720 with 4 Axes>"
      ]
     },
     "metadata": {
      "needs_background": "light"
     },
     "output_type": "display_data"
    }
   ],
   "source": [
    "path = r'scans/output/PRE/'\n",
    "roi = 1                            # V1-roi: 0, MT-roi: 1\n",
    "conds = [1, 3]                     # trained_cp: 0, trained_ip: 1, untrained_cp: 2, untrained_ip: 3\n",
    "block_length = 624 \n",
    "\n",
    "kernels = ['linear', 'rbf', 'poly', 'sigmoid']\n",
    "fig, axes = plt.subplots(2, 2, figsize=(16,10), squeeze=False)\n",
    "\n",
    "kernel_accs = {}\n",
    "\n",
    "for i, kernel in enumerate(kernels):\n",
    "    \n",
    "    print(\"Currently testing %s kernel.\" % (kernel))\n",
    "    accs, outer_accs = train(path, kernel, roi, conds, block_length)\n",
    "    kernel_accs[kernel] = accs\n",
    "    vals = []\n",
    "    for column in accs:\n",
    "        vals.extend(accs[column].tolist())\n",
    "    vals = [x for x in vals if str(x) != 'nan']\n",
    "    \n",
    "    row = 0\n",
    "    if i > 1:\n",
    "        row = 1\n",
    "    col = 0\n",
    "    if i == 1 or i == 3:\n",
    "        col = 1\n",
    "    \n",
    "    axes[row, col].hist(vals)\n",
    "    axes[row, col].set_title(kernel)\n",
    "    axes[row, col].set_xlabel('Accuracy')\n",
    "\n",
    "fig.tight_layout()\n",
    "plt.savefig('acc_comparison.png')\n",
    "plt.show()"
   ]
  },
  {
   "cell_type": "markdown",
   "metadata": {},
   "source": [
    "### Debugging"
   ]
  },
  {
   "cell_type": "code",
   "execution_count": 345,
   "metadata": {},
   "outputs": [
    {
     "name": "stdout",
     "output_type": "stream",
     "text": [
      "{'C': 8.0, 'gamma': 0.001953125, 'kernel': 'sigmoid'}\n",
      "{'C': 6.964404506368992, 'gamma': 0.0029603839189656206, 'kernel': 'sigmoid'}\n",
      "Operation took 1 minutes and 29.594329 seconds.\n"
     ]
    }
   ],
   "source": [
    "C_range = {'start': -3, 'stop': 11, 'num': 8, 'base': 2.0}\n",
    "gamma_range = {'start': -13, 'stop': 1, 'num': 8, 'base': 2.0}\n",
    "\n",
    "start_time = time.time()\n",
    "x_train, y_train, x_test, y_test, _, _ = generate_data(subjects, 1, 0, path, suffix, block_length, roi, conds)\n",
    "\n",
    "opt_params = get_optimal_params(x_train, y_train, gamma_range, C_range)\n",
    "\n",
    "end_time = time.time()\n",
    "exec_time = end_time - start_time\n",
    "minutes = exec_time // 60\n",
    "seconds = exec_time % 60\n",
    "print('Operation took %i minutes and %f seconds.' % (minutes, seconds))"
   ]
  },
  {
   "cell_type": "code",
   "execution_count": 322,
   "metadata": {
    "collapsed": true
   },
   "outputs": [
    {
     "ename": "KeyboardInterrupt",
     "evalue": "",
     "output_type": "error",
     "traceback": [
      "\u001b[0;31m---------------------------------------------------------------------------\u001b[0m",
      "\u001b[0;31mKeyboardInterrupt\u001b[0m                         Traceback (most recent call last)",
      "\u001b[0;32m<ipython-input-322-c528244f2233>\u001b[0m in \u001b[0;36m<module>\u001b[0;34m\u001b[0m\n\u001b[1;32m      6\u001b[0m \u001b[0mx_train\u001b[0m\u001b[0;34m,\u001b[0m \u001b[0my_train\u001b[0m\u001b[0;34m,\u001b[0m \u001b[0mx_test\u001b[0m\u001b[0;34m,\u001b[0m \u001b[0my_test\u001b[0m\u001b[0;34m,\u001b[0m \u001b[0m_\u001b[0m\u001b[0;34m,\u001b[0m \u001b[0m_\u001b[0m \u001b[0;34m=\u001b[0m \u001b[0mgenerate_data\u001b[0m\u001b[0;34m(\u001b[0m\u001b[0msubjects\u001b[0m\u001b[0;34m,\u001b[0m \u001b[0;36m1\u001b[0m\u001b[0;34m,\u001b[0m \u001b[0;36m0\u001b[0m\u001b[0;34m,\u001b[0m \u001b[0mpath\u001b[0m\u001b[0;34m,\u001b[0m \u001b[0msuffix\u001b[0m\u001b[0;34m,\u001b[0m \u001b[0mblock_length\u001b[0m\u001b[0;34m,\u001b[0m \u001b[0mroi\u001b[0m\u001b[0;34m,\u001b[0m \u001b[0mconds\u001b[0m\u001b[0;34m)\u001b[0m\u001b[0;34m\u001b[0m\u001b[0m\n\u001b[1;32m      7\u001b[0m \u001b[0mclf\u001b[0m \u001b[0;34m=\u001b[0m \u001b[0mGridSearchCV\u001b[0m\u001b[0;34m(\u001b[0m\u001b[0mSVC\u001b[0m\u001b[0;34m(\u001b[0m\u001b[0;34m)\u001b[0m\u001b[0;34m,\u001b[0m \u001b[0mtuned_params\u001b[0m\u001b[0;34m,\u001b[0m \u001b[0mcv\u001b[0m\u001b[0;34m=\u001b[0m\u001b[0;36m5\u001b[0m\u001b[0;34m)\u001b[0m\u001b[0;34m\u001b[0m\u001b[0m\n\u001b[0;32m----> 8\u001b[0;31m \u001b[0mclf\u001b[0m\u001b[0;34m.\u001b[0m\u001b[0mfit\u001b[0m\u001b[0;34m(\u001b[0m\u001b[0mx_train\u001b[0m\u001b[0;34m,\u001b[0m \u001b[0my_train\u001b[0m\u001b[0;34m)\u001b[0m\u001b[0;34m\u001b[0m\u001b[0m\n\u001b[0m\u001b[1;32m      9\u001b[0m \u001b[0;34m\u001b[0m\u001b[0m\n\u001b[1;32m     10\u001b[0m \u001b[0mend_time\u001b[0m \u001b[0;34m=\u001b[0m \u001b[0mtime\u001b[0m\u001b[0;34m.\u001b[0m\u001b[0mtime\u001b[0m\u001b[0;34m(\u001b[0m\u001b[0;34m)\u001b[0m\u001b[0;34m\u001b[0m\u001b[0m\n",
      "\u001b[0;32m~/.pyenv/versions/3.6.0/lib/python3.6/site-packages/sklearn/model_selection/_search.py\u001b[0m in \u001b[0;36mfit\u001b[0;34m(self, X, y, groups, **fit_params)\u001b[0m\n\u001b[1;32m    686\u001b[0m                 \u001b[0;32mreturn\u001b[0m \u001b[0mresults\u001b[0m\u001b[0;34m\u001b[0m\u001b[0m\n\u001b[1;32m    687\u001b[0m \u001b[0;34m\u001b[0m\u001b[0m\n\u001b[0;32m--> 688\u001b[0;31m             \u001b[0mself\u001b[0m\u001b[0;34m.\u001b[0m\u001b[0m_run_search\u001b[0m\u001b[0;34m(\u001b[0m\u001b[0mevaluate_candidates\u001b[0m\u001b[0;34m)\u001b[0m\u001b[0;34m\u001b[0m\u001b[0m\n\u001b[0m\u001b[1;32m    689\u001b[0m \u001b[0;34m\u001b[0m\u001b[0m\n\u001b[1;32m    690\u001b[0m         \u001b[0;31m# For multi-metric evaluation, store the best_index_, best_params_ and\u001b[0m\u001b[0;34m\u001b[0m\u001b[0;34m\u001b[0m\u001b[0m\n",
      "\u001b[0;32m~/.pyenv/versions/3.6.0/lib/python3.6/site-packages/sklearn/model_selection/_search.py\u001b[0m in \u001b[0;36m_run_search\u001b[0;34m(self, evaluate_candidates)\u001b[0m\n\u001b[1;32m   1147\u001b[0m     \u001b[0;32mdef\u001b[0m \u001b[0m_run_search\u001b[0m\u001b[0;34m(\u001b[0m\u001b[0mself\u001b[0m\u001b[0;34m,\u001b[0m \u001b[0mevaluate_candidates\u001b[0m\u001b[0;34m)\u001b[0m\u001b[0;34m:\u001b[0m\u001b[0;34m\u001b[0m\u001b[0m\n\u001b[1;32m   1148\u001b[0m         \u001b[0;34m\"\"\"Search all candidates in param_grid\"\"\"\u001b[0m\u001b[0;34m\u001b[0m\u001b[0m\n\u001b[0;32m-> 1149\u001b[0;31m         \u001b[0mevaluate_candidates\u001b[0m\u001b[0;34m(\u001b[0m\u001b[0mParameterGrid\u001b[0m\u001b[0;34m(\u001b[0m\u001b[0mself\u001b[0m\u001b[0;34m.\u001b[0m\u001b[0mparam_grid\u001b[0m\u001b[0;34m)\u001b[0m\u001b[0;34m)\u001b[0m\u001b[0;34m\u001b[0m\u001b[0m\n\u001b[0m\u001b[1;32m   1150\u001b[0m \u001b[0;34m\u001b[0m\u001b[0m\n\u001b[1;32m   1151\u001b[0m \u001b[0;34m\u001b[0m\u001b[0m\n",
      "\u001b[0;32m~/.pyenv/versions/3.6.0/lib/python3.6/site-packages/sklearn/model_selection/_search.py\u001b[0m in \u001b[0;36mevaluate_candidates\u001b[0;34m(candidate_params)\u001b[0m\n\u001b[1;32m    665\u001b[0m                                \u001b[0;32mfor\u001b[0m \u001b[0mparameters\u001b[0m\u001b[0;34m,\u001b[0m \u001b[0;34m(\u001b[0m\u001b[0mtrain\u001b[0m\u001b[0;34m,\u001b[0m \u001b[0mtest\u001b[0m\u001b[0;34m)\u001b[0m\u001b[0;34m\u001b[0m\u001b[0m\n\u001b[1;32m    666\u001b[0m                                in product(candidate_params,\n\u001b[0;32m--> 667\u001b[0;31m                                           cv.split(X, y, groups)))\n\u001b[0m\u001b[1;32m    668\u001b[0m \u001b[0;34m\u001b[0m\u001b[0m\n\u001b[1;32m    669\u001b[0m                 \u001b[0;32mif\u001b[0m \u001b[0mlen\u001b[0m\u001b[0;34m(\u001b[0m\u001b[0mout\u001b[0m\u001b[0;34m)\u001b[0m \u001b[0;34m<\u001b[0m \u001b[0;36m1\u001b[0m\u001b[0;34m:\u001b[0m\u001b[0;34m\u001b[0m\u001b[0m\n",
      "\u001b[0;32m~/.pyenv/versions/3.6.0/lib/python3.6/site-packages/joblib/parallel.py\u001b[0m in \u001b[0;36m__call__\u001b[0;34m(self, iterable)\u001b[0m\n\u001b[1;32m    922\u001b[0m                 \u001b[0mself\u001b[0m\u001b[0;34m.\u001b[0m\u001b[0m_iterating\u001b[0m \u001b[0;34m=\u001b[0m \u001b[0mself\u001b[0m\u001b[0;34m.\u001b[0m\u001b[0m_original_iterator\u001b[0m \u001b[0;32mis\u001b[0m \u001b[0;32mnot\u001b[0m \u001b[0;32mNone\u001b[0m\u001b[0;34m\u001b[0m\u001b[0m\n\u001b[1;32m    923\u001b[0m \u001b[0;34m\u001b[0m\u001b[0m\n\u001b[0;32m--> 924\u001b[0;31m             \u001b[0;32mwhile\u001b[0m \u001b[0mself\u001b[0m\u001b[0;34m.\u001b[0m\u001b[0mdispatch_one_batch\u001b[0m\u001b[0;34m(\u001b[0m\u001b[0miterator\u001b[0m\u001b[0;34m)\u001b[0m\u001b[0;34m:\u001b[0m\u001b[0;34m\u001b[0m\u001b[0m\n\u001b[0m\u001b[1;32m    925\u001b[0m                 \u001b[0;32mpass\u001b[0m\u001b[0;34m\u001b[0m\u001b[0m\n\u001b[1;32m    926\u001b[0m \u001b[0;34m\u001b[0m\u001b[0m\n",
      "\u001b[0;32m~/.pyenv/versions/3.6.0/lib/python3.6/site-packages/joblib/parallel.py\u001b[0m in \u001b[0;36mdispatch_one_batch\u001b[0;34m(self, iterator)\u001b[0m\n\u001b[1;32m    757\u001b[0m                 \u001b[0;32mreturn\u001b[0m \u001b[0;32mFalse\u001b[0m\u001b[0;34m\u001b[0m\u001b[0m\n\u001b[1;32m    758\u001b[0m             \u001b[0;32melse\u001b[0m\u001b[0;34m:\u001b[0m\u001b[0;34m\u001b[0m\u001b[0m\n\u001b[0;32m--> 759\u001b[0;31m                 \u001b[0mself\u001b[0m\u001b[0;34m.\u001b[0m\u001b[0m_dispatch\u001b[0m\u001b[0;34m(\u001b[0m\u001b[0mtasks\u001b[0m\u001b[0;34m)\u001b[0m\u001b[0;34m\u001b[0m\u001b[0m\n\u001b[0m\u001b[1;32m    760\u001b[0m                 \u001b[0;32mreturn\u001b[0m \u001b[0;32mTrue\u001b[0m\u001b[0;34m\u001b[0m\u001b[0m\n\u001b[1;32m    761\u001b[0m \u001b[0;34m\u001b[0m\u001b[0m\n",
      "\u001b[0;32m~/.pyenv/versions/3.6.0/lib/python3.6/site-packages/joblib/parallel.py\u001b[0m in \u001b[0;36m_dispatch\u001b[0;34m(self, batch)\u001b[0m\n\u001b[1;32m    714\u001b[0m         \u001b[0;32mwith\u001b[0m \u001b[0mself\u001b[0m\u001b[0;34m.\u001b[0m\u001b[0m_lock\u001b[0m\u001b[0;34m:\u001b[0m\u001b[0;34m\u001b[0m\u001b[0m\n\u001b[1;32m    715\u001b[0m             \u001b[0mjob_idx\u001b[0m \u001b[0;34m=\u001b[0m \u001b[0mlen\u001b[0m\u001b[0;34m(\u001b[0m\u001b[0mself\u001b[0m\u001b[0;34m.\u001b[0m\u001b[0m_jobs\u001b[0m\u001b[0;34m)\u001b[0m\u001b[0;34m\u001b[0m\u001b[0m\n\u001b[0;32m--> 716\u001b[0;31m             \u001b[0mjob\u001b[0m \u001b[0;34m=\u001b[0m \u001b[0mself\u001b[0m\u001b[0;34m.\u001b[0m\u001b[0m_backend\u001b[0m\u001b[0;34m.\u001b[0m\u001b[0mapply_async\u001b[0m\u001b[0;34m(\u001b[0m\u001b[0mbatch\u001b[0m\u001b[0;34m,\u001b[0m \u001b[0mcallback\u001b[0m\u001b[0;34m=\u001b[0m\u001b[0mcb\u001b[0m\u001b[0;34m)\u001b[0m\u001b[0;34m\u001b[0m\u001b[0m\n\u001b[0m\u001b[1;32m    717\u001b[0m             \u001b[0;31m# A job can complete so quickly than its callback is\u001b[0m\u001b[0;34m\u001b[0m\u001b[0;34m\u001b[0m\u001b[0m\n\u001b[1;32m    718\u001b[0m             \u001b[0;31m# called before we get here, causing self._jobs to\u001b[0m\u001b[0;34m\u001b[0m\u001b[0;34m\u001b[0m\u001b[0m\n",
      "\u001b[0;32m~/.pyenv/versions/3.6.0/lib/python3.6/site-packages/joblib/_parallel_backends.py\u001b[0m in \u001b[0;36mapply_async\u001b[0;34m(self, func, callback)\u001b[0m\n\u001b[1;32m    180\u001b[0m     \u001b[0;32mdef\u001b[0m \u001b[0mapply_async\u001b[0m\u001b[0;34m(\u001b[0m\u001b[0mself\u001b[0m\u001b[0;34m,\u001b[0m \u001b[0mfunc\u001b[0m\u001b[0;34m,\u001b[0m \u001b[0mcallback\u001b[0m\u001b[0;34m=\u001b[0m\u001b[0;32mNone\u001b[0m\u001b[0;34m)\u001b[0m\u001b[0;34m:\u001b[0m\u001b[0;34m\u001b[0m\u001b[0m\n\u001b[1;32m    181\u001b[0m         \u001b[0;34m\"\"\"Schedule a func to be run\"\"\"\u001b[0m\u001b[0;34m\u001b[0m\u001b[0m\n\u001b[0;32m--> 182\u001b[0;31m         \u001b[0mresult\u001b[0m \u001b[0;34m=\u001b[0m \u001b[0mImmediateResult\u001b[0m\u001b[0;34m(\u001b[0m\u001b[0mfunc\u001b[0m\u001b[0;34m)\u001b[0m\u001b[0;34m\u001b[0m\u001b[0m\n\u001b[0m\u001b[1;32m    183\u001b[0m         \u001b[0;32mif\u001b[0m \u001b[0mcallback\u001b[0m\u001b[0;34m:\u001b[0m\u001b[0;34m\u001b[0m\u001b[0m\n\u001b[1;32m    184\u001b[0m             \u001b[0mcallback\u001b[0m\u001b[0;34m(\u001b[0m\u001b[0mresult\u001b[0m\u001b[0;34m)\u001b[0m\u001b[0;34m\u001b[0m\u001b[0m\n",
      "\u001b[0;32m~/.pyenv/versions/3.6.0/lib/python3.6/site-packages/joblib/_parallel_backends.py\u001b[0m in \u001b[0;36m__init__\u001b[0;34m(self, batch)\u001b[0m\n\u001b[1;32m    547\u001b[0m         \u001b[0;31m# Don't delay the application, to avoid keeping the input\u001b[0m\u001b[0;34m\u001b[0m\u001b[0;34m\u001b[0m\u001b[0m\n\u001b[1;32m    548\u001b[0m         \u001b[0;31m# arguments in memory\u001b[0m\u001b[0;34m\u001b[0m\u001b[0;34m\u001b[0m\u001b[0m\n\u001b[0;32m--> 549\u001b[0;31m         \u001b[0mself\u001b[0m\u001b[0;34m.\u001b[0m\u001b[0mresults\u001b[0m \u001b[0;34m=\u001b[0m \u001b[0mbatch\u001b[0m\u001b[0;34m(\u001b[0m\u001b[0;34m)\u001b[0m\u001b[0;34m\u001b[0m\u001b[0m\n\u001b[0m\u001b[1;32m    550\u001b[0m \u001b[0;34m\u001b[0m\u001b[0m\n\u001b[1;32m    551\u001b[0m     \u001b[0;32mdef\u001b[0m \u001b[0mget\u001b[0m\u001b[0;34m(\u001b[0m\u001b[0mself\u001b[0m\u001b[0;34m)\u001b[0m\u001b[0;34m:\u001b[0m\u001b[0;34m\u001b[0m\u001b[0m\n",
      "\u001b[0;32m~/.pyenv/versions/3.6.0/lib/python3.6/site-packages/joblib/parallel.py\u001b[0m in \u001b[0;36m__call__\u001b[0;34m(self)\u001b[0m\n\u001b[1;32m    223\u001b[0m         \u001b[0;32mwith\u001b[0m \u001b[0mparallel_backend\u001b[0m\u001b[0;34m(\u001b[0m\u001b[0mself\u001b[0m\u001b[0;34m.\u001b[0m\u001b[0m_backend\u001b[0m\u001b[0;34m,\u001b[0m \u001b[0mn_jobs\u001b[0m\u001b[0;34m=\u001b[0m\u001b[0mself\u001b[0m\u001b[0;34m.\u001b[0m\u001b[0m_n_jobs\u001b[0m\u001b[0;34m)\u001b[0m\u001b[0;34m:\u001b[0m\u001b[0;34m\u001b[0m\u001b[0m\n\u001b[1;32m    224\u001b[0m             return [func(*args, **kwargs)\n\u001b[0;32m--> 225\u001b[0;31m                     for func, args, kwargs in self.items]\n\u001b[0m\u001b[1;32m    226\u001b[0m \u001b[0;34m\u001b[0m\u001b[0m\n\u001b[1;32m    227\u001b[0m     \u001b[0;32mdef\u001b[0m \u001b[0m__len__\u001b[0m\u001b[0;34m(\u001b[0m\u001b[0mself\u001b[0m\u001b[0;34m)\u001b[0m\u001b[0;34m:\u001b[0m\u001b[0;34m\u001b[0m\u001b[0m\n",
      "\u001b[0;32m~/.pyenv/versions/3.6.0/lib/python3.6/site-packages/joblib/parallel.py\u001b[0m in \u001b[0;36m<listcomp>\u001b[0;34m(.0)\u001b[0m\n\u001b[1;32m    223\u001b[0m         \u001b[0;32mwith\u001b[0m \u001b[0mparallel_backend\u001b[0m\u001b[0;34m(\u001b[0m\u001b[0mself\u001b[0m\u001b[0;34m.\u001b[0m\u001b[0m_backend\u001b[0m\u001b[0;34m,\u001b[0m \u001b[0mn_jobs\u001b[0m\u001b[0;34m=\u001b[0m\u001b[0mself\u001b[0m\u001b[0;34m.\u001b[0m\u001b[0m_n_jobs\u001b[0m\u001b[0;34m)\u001b[0m\u001b[0;34m:\u001b[0m\u001b[0;34m\u001b[0m\u001b[0m\n\u001b[1;32m    224\u001b[0m             return [func(*args, **kwargs)\n\u001b[0;32m--> 225\u001b[0;31m                     for func, args, kwargs in self.items]\n\u001b[0m\u001b[1;32m    226\u001b[0m \u001b[0;34m\u001b[0m\u001b[0m\n\u001b[1;32m    227\u001b[0m     \u001b[0;32mdef\u001b[0m \u001b[0m__len__\u001b[0m\u001b[0;34m(\u001b[0m\u001b[0mself\u001b[0m\u001b[0;34m)\u001b[0m\u001b[0;34m:\u001b[0m\u001b[0;34m\u001b[0m\u001b[0m\n",
      "\u001b[0;32m~/.pyenv/versions/3.6.0/lib/python3.6/site-packages/sklearn/model_selection/_validation.py\u001b[0m in \u001b[0;36m_fit_and_score\u001b[0;34m(estimator, X, y, scorer, train, test, verbose, parameters, fit_params, return_train_score, return_parameters, return_n_test_samples, return_times, return_estimator, error_score)\u001b[0m\n\u001b[1;32m    514\u001b[0m             \u001b[0mestimator\u001b[0m\u001b[0;34m.\u001b[0m\u001b[0mfit\u001b[0m\u001b[0;34m(\u001b[0m\u001b[0mX_train\u001b[0m\u001b[0;34m,\u001b[0m \u001b[0;34m**\u001b[0m\u001b[0mfit_params\u001b[0m\u001b[0;34m)\u001b[0m\u001b[0;34m\u001b[0m\u001b[0m\n\u001b[1;32m    515\u001b[0m         \u001b[0;32melse\u001b[0m\u001b[0;34m:\u001b[0m\u001b[0;34m\u001b[0m\u001b[0m\n\u001b[0;32m--> 516\u001b[0;31m             \u001b[0mestimator\u001b[0m\u001b[0;34m.\u001b[0m\u001b[0mfit\u001b[0m\u001b[0;34m(\u001b[0m\u001b[0mX_train\u001b[0m\u001b[0;34m,\u001b[0m \u001b[0my_train\u001b[0m\u001b[0;34m,\u001b[0m \u001b[0;34m**\u001b[0m\u001b[0mfit_params\u001b[0m\u001b[0;34m)\u001b[0m\u001b[0;34m\u001b[0m\u001b[0m\n\u001b[0m\u001b[1;32m    517\u001b[0m \u001b[0;34m\u001b[0m\u001b[0m\n\u001b[1;32m    518\u001b[0m     \u001b[0;32mexcept\u001b[0m \u001b[0mException\u001b[0m \u001b[0;32mas\u001b[0m \u001b[0me\u001b[0m\u001b[0;34m:\u001b[0m\u001b[0;34m\u001b[0m\u001b[0m\n",
      "\u001b[0;32m~/.pyenv/versions/3.6.0/lib/python3.6/site-packages/sklearn/svm/base.py\u001b[0m in \u001b[0;36mfit\u001b[0;34m(self, X, y, sample_weight)\u001b[0m\n\u001b[1;32m    207\u001b[0m \u001b[0;34m\u001b[0m\u001b[0m\n\u001b[1;32m    208\u001b[0m         \u001b[0mseed\u001b[0m \u001b[0;34m=\u001b[0m \u001b[0mrnd\u001b[0m\u001b[0;34m.\u001b[0m\u001b[0mrandint\u001b[0m\u001b[0;34m(\u001b[0m\u001b[0mnp\u001b[0m\u001b[0;34m.\u001b[0m\u001b[0miinfo\u001b[0m\u001b[0;34m(\u001b[0m\u001b[0;34m'i'\u001b[0m\u001b[0;34m)\u001b[0m\u001b[0;34m.\u001b[0m\u001b[0mmax\u001b[0m\u001b[0;34m)\u001b[0m\u001b[0;34m\u001b[0m\u001b[0m\n\u001b[0;32m--> 209\u001b[0;31m         \u001b[0mfit\u001b[0m\u001b[0;34m(\u001b[0m\u001b[0mX\u001b[0m\u001b[0;34m,\u001b[0m \u001b[0my\u001b[0m\u001b[0;34m,\u001b[0m \u001b[0msample_weight\u001b[0m\u001b[0;34m,\u001b[0m \u001b[0msolver_type\u001b[0m\u001b[0;34m,\u001b[0m \u001b[0mkernel\u001b[0m\u001b[0;34m,\u001b[0m \u001b[0mrandom_seed\u001b[0m\u001b[0;34m=\u001b[0m\u001b[0mseed\u001b[0m\u001b[0;34m)\u001b[0m\u001b[0;34m\u001b[0m\u001b[0m\n\u001b[0m\u001b[1;32m    210\u001b[0m         \u001b[0;31m# see comment on the other call to np.iinfo in this file\u001b[0m\u001b[0;34m\u001b[0m\u001b[0;34m\u001b[0m\u001b[0m\n\u001b[1;32m    211\u001b[0m \u001b[0;34m\u001b[0m\u001b[0m\n",
      "\u001b[0;32m~/.pyenv/versions/3.6.0/lib/python3.6/site-packages/sklearn/svm/base.py\u001b[0m in \u001b[0;36m_dense_fit\u001b[0;34m(self, X, y, sample_weight, solver_type, kernel, random_seed)\u001b[0m\n\u001b[1;32m    266\u001b[0m                 \u001b[0mcache_size\u001b[0m\u001b[0;34m=\u001b[0m\u001b[0mself\u001b[0m\u001b[0;34m.\u001b[0m\u001b[0mcache_size\u001b[0m\u001b[0;34m,\u001b[0m \u001b[0mcoef0\u001b[0m\u001b[0;34m=\u001b[0m\u001b[0mself\u001b[0m\u001b[0;34m.\u001b[0m\u001b[0mcoef0\u001b[0m\u001b[0;34m,\u001b[0m\u001b[0;34m\u001b[0m\u001b[0m\n\u001b[1;32m    267\u001b[0m                 \u001b[0mgamma\u001b[0m\u001b[0;34m=\u001b[0m\u001b[0mself\u001b[0m\u001b[0;34m.\u001b[0m\u001b[0m_gamma\u001b[0m\u001b[0;34m,\u001b[0m \u001b[0mepsilon\u001b[0m\u001b[0;34m=\u001b[0m\u001b[0mself\u001b[0m\u001b[0;34m.\u001b[0m\u001b[0mepsilon\u001b[0m\u001b[0;34m,\u001b[0m\u001b[0;34m\u001b[0m\u001b[0m\n\u001b[0;32m--> 268\u001b[0;31m                 max_iter=self.max_iter, random_seed=random_seed)\n\u001b[0m\u001b[1;32m    269\u001b[0m \u001b[0;34m\u001b[0m\u001b[0m\n\u001b[1;32m    270\u001b[0m         \u001b[0mself\u001b[0m\u001b[0;34m.\u001b[0m\u001b[0m_warn_from_fit_status\u001b[0m\u001b[0;34m(\u001b[0m\u001b[0;34m)\u001b[0m\u001b[0;34m\u001b[0m\u001b[0m\n",
      "\u001b[0;31mKeyboardInterrupt\u001b[0m: "
     ]
    }
   ],
   "source": [
    "C_range = np.logspace(start=-3, stop=7, num=6, base=2.0)\n",
    "gamma_range = np.logspace(start=-9, stop=1, num=6, base=2.0)\n",
    "tuned_params = [{'kernel': ['linear', 'rbf', 'sigmoid'], 'gamma': gamma_range, 'C': C_range}]\n",
    "\n",
    "start_time = time.time()\n",
    "x_train, y_train, x_test, y_test, _, _ = generate_data(subjects, 1, 0, path, suffix, block_length, roi, conds)\n",
    "clf = GridSearchCV(SVC(), tuned_params, cv=5)\n",
    "clf.fit(x_train, y_train)\n",
    "\n",
    "end_time = time.time()\n",
    "exec_time = end_time - start_time\n",
    "minutes = exec_time // 60\n",
    "seconds = exec_time % 60\n",
    "print('Operation took %i minutes and %f seconds.' % (minutes, seconds))\n",
    "\n",
    "clf.best_params_"
   ]
  },
  {
   "cell_type": "code",
   "execution_count": 11,
   "metadata": {},
   "outputs": [
    {
     "data": {
      "text/plain": [
       "0.5"
      ]
     },
     "execution_count": 11,
     "metadata": {},
     "output_type": "execute_result"
    }
   ],
   "source": [
    "kernel_type = 'poly'\n",
    "path = r'scans/output/PRE/'\n",
    "suffix = \"PRE_EVERY_TR_roi.mat\"\n",
    "roi = 1                            # V1-roi: 0, MT-roi: 1\n",
    "conds = [1, 3]                     # trained_cp: 0, trained_ip: 1, untrained_cp: 2, untrained_ip: 3\n",
    "subjects = get_subjects(path)\n",
    "block_length = 624                 # minimum block length\n",
    "\n",
    "inner_subject = 3\n",
    "outer_subject = 0\n",
    "x_train, y_train, x_test, y_test = generate_data(subjects, inner_subject, outer_subject, path, suffix, block_length, roi, conds)\n",
    "svclassifier = SVC(kernel=kernel_type, gamma='auto', max_iter=-1)\n",
    "svclassifier.fit(x_train, y_train)\n",
    "\n",
    "svclassifier.score(x_test, y_test)\n"
   ]
  },
  {
   "cell_type": "code",
   "execution_count": 837,
   "metadata": {},
   "outputs": [],
   "source": [
    "kernel_type = 'sigmoid'\n",
    "path = r'scans/output/PRE/'\n",
    "suffix = \"PRE_EVERY_TR_roi.mat\"\n",
    "roi = 1                            # V1-roi: 0, MT-roi: 1\n",
    "conds = [1, 3]                     # trained_cp: 0, trained_ip: 1, untrained_cp: 2, untrained_ip: 3\n",
    "subjects = get_subjects(path)\n",
    "block_length = 624                 # minimum block length\n",
    "\n",
    "data = extract_subject_data(path, subjects[2], suffix, roi, conds, block_length)\n",
    "#svclassifier = SVC(kernel=kernel_type, gamma='auto', max_iter=-1)\n",
    "#svclassifier.fit(data['x'], data['y'])"
   ]
  },
  {
   "cell_type": "code",
   "execution_count": 53,
   "metadata": {
    "scrolled": true
   },
   "outputs": [
    {
     "name": "stdout",
     "output_type": "stream",
     "text": [
      "0: trained_ip -> untrained_ip\n",
      "5: trained_ip -> untrained_ip\n",
      "6: untrained_ip -> trained_ip\n",
      "8: trained_ip -> untrained_ip\n",
      "7: untrained_ip -> trained_ip\n",
      "1: trained_ip -> untrained_ip\n"
     ]
    }
   ],
   "source": [
    "classes = ['trained_ip', 'untrained_ip']\n",
    "\n",
    "data = extract_subject_data(path, subjects[0], suffix, roi, conds, block_length)\n",
    "scramble_labels(data['y'], classes)"
   ]
  },
  {
   "cell_type": "code",
   "execution_count": null,
   "metadata": {},
   "outputs": [],
   "source": []
  }
 ],
 "metadata": {
  "kernelspec": {
   "display_name": "Python 3",
   "language": "python",
   "name": "python3"
  },
  "language_info": {
   "codemirror_mode": {
    "name": "ipython",
    "version": 3
   },
   "file_extension": ".py",
   "mimetype": "text/x-python",
   "name": "python",
   "nbconvert_exporter": "python",
   "pygments_lexer": "ipython3",
   "version": "3.6.0"
  }
 },
 "nbformat": 4,
 "nbformat_minor": 2
}

{
 "cells": [
  {
   "cell_type": "code",
   "execution_count": 1,
   "metadata": {},
   "outputs": [],
   "source": [
    "import numpy as np\n",
    "import pandas as pd\n",
    "import matplotlib.pyplot as plt\n",
    "import seaborn as sns\n",
    "import scipy"
   ]
  },
  {
   "cell_type": "code",
   "execution_count": 2,
   "metadata": {},
   "outputs": [],
   "source": [
    "def df_to_arr(df):\n",
    "    \n",
    "    vals = []\n",
    "    for _, row in df.iterrows():\n",
    "        vals.extend(row.tolist())\n",
    "    return np.array([x for x in vals if str(x) != 'nan'])"
   ]
  },
  {
   "cell_type": "code",
   "execution_count": 3,
   "metadata": {},
   "outputs": [],
   "source": [
    "def t_test(vals1, vals2, df):\n",
    "    \n",
    "    var1 = vals1.var(ddof=1)\n",
    "    var2 = vals2.var(ddof=1)\n",
    "    N1 = len(vals1)\n",
    "    N2 = len(vals2)\n",
    "    s = np.sqrt(((var1**2)/N1 + (var2**2)/N2))\n",
    "    t = (np.mean(vals1) - np.mean(vals2))/s\n",
    "\n",
    "    return scipy.stats.t.cdf(t, df=df)"
   ]
  },
  {
   "cell_type": "markdown",
   "metadata": {},
   "source": [
    "# Post-Training Unpermuted vs. Permuted CP/IP"
   ]
  },
  {
   "cell_type": "code",
   "execution_count": 74,
   "metadata": {},
   "outputs": [
    {
     "data": {
      "text/plain": [
       "Ttest_relResult(statistic=8.604721200445661, pvalue=5.70753853598756e-05)"
      ]
     },
     "execution_count": 74,
     "metadata": {},
     "output_type": "execute_result"
    }
   ],
   "source": [
    "num_runs = 30\n",
    "sub_num_per_run = 200\n",
    "num_subjects = 8\n",
    "\n",
    "scrambled_data = np.load('output/post_ip/outer_perms_within.npy')\n",
    "avg_data_unscrambled = pd.read_csv('output/post_ip/outer_accs_within.csv', index_col=0)['Average'].tolist()\n",
    "\n",
    "avg_data_scrambled = []\n",
    "for i in range(num_subjects):\n",
    "    subj_data = []\n",
    "    for j in range(num_runs):\n",
    "        subj_data.extend(scrambled_data[sub_num_per_run*num_subjects*j+sub_num_per_run*i:sub_num_per_run*num_subjects*j+sub_num_per_run*(i+1)])\n",
    "    avg_data_scrambled.append(np.mean(subj_data))\n",
    "    \n",
    "scipy.stats.ttest_rel(avg_data_unscrambled, avg_data_scrambled)"
   ]
  },
  {
   "cell_type": "code",
   "execution_count": 42,
   "metadata": {
    "scrolled": true
   },
   "outputs": [
    {
     "data": {
      "text/plain": [
       "Ttest_relResult(statistic=9.877975827917348, pvalue=2.3196463548008575e-05)"
      ]
     },
     "execution_count": 42,
     "metadata": {},
     "output_type": "execute_result"
    }
   ],
   "source": [
    "num_runs = 30\n",
    "sub_num_per_run = 200\n",
    "num_subjects = 8\n",
    "\n",
    "scrambled_data = np.load('output/post_cp/outer_perms_within.npy')\n",
    "avg_data_unscrambled = pd.read_csv('output/post_cp/outer_accs_within.csv', index_col=0)['Average'].tolist()\n",
    "\n",
    "avg_data_scrambled = []\n",
    "for i in range(num_subjects):\n",
    "    subj_data = []\n",
    "    for j in range(num_runs):\n",
    "        subj_data.extend(scrambled_data[sub_num_per_run*num_subjects*j+sub_num_per_run*i:sub_num_per_run*num_subjects*j+sub_num_per_run*(i+1)])\n",
    "    avg_data_scrambled.append(np.mean(subj_data))\n",
    "    \n",
    "scipy.stats.ttest_rel(avg_data_unscrambled, avg_data_scrambled)"
   ]
  },
  {
   "cell_type": "markdown",
   "metadata": {},
   "source": [
    "# Post-Training vs. Pre-Training CP/IP"
   ]
  },
  {
   "cell_type": "code",
   "execution_count": 96,
   "metadata": {
    "scrolled": true
   },
   "outputs": [
    {
     "data": {
      "text/plain": [
       "Ttest_relResult(statistic=-1.1968580969476674, pvalue=0.2703186955294861)"
      ]
     },
     "execution_count": 96,
     "metadata": {},
     "output_type": "execute_result"
    }
   ],
   "source": [
    "pre_data = pd.read_csv('output/ip/outer_accs_within.csv', index_col=0)\n",
    "post_data = pd.read_csv('output/post_ip/outer_accs_within.csv', index_col=0)\n",
    "common = post_data.index.intersection(pre_data.index)\n",
    "\n",
    "avg_data_post = post_data['Average'].tolist()\n",
    "avg_data_pre = pre_data.loc[common]['Average'].tolist()\n",
    "\n",
    "scipy.stats.ttest_rel(avg_data_post, avg_data_pre)"
   ]
  },
  {
   "cell_type": "code",
   "execution_count": 94,
   "metadata": {},
   "outputs": [
    {
     "data": {
      "text/plain": [
       "Ttest_relResult(statistic=-2.4713472158564054, pvalue=0.042748522816239705)"
      ]
     },
     "execution_count": 94,
     "metadata": {},
     "output_type": "execute_result"
    }
   ],
   "source": [
    "pre_data = pd.read_csv('output/cp/outer_accs_within.csv', index_col=0)\n",
    "post_data = pd.read_csv('output/post_cp/outer_accs_within.csv', index_col=0)\n",
    "common = post_data.index.intersection(pre_data.index)\n",
    "\n",
    "avg_data_post = post_data['Average'].tolist()\n",
    "avg_data_pre = pre_data.loc[common]['Average'].tolist()\n",
    "\n",
    "scipy.stats.ttest_rel(avg_data_post, avg_data_pre)"
   ]
  },
  {
   "cell_type": "code",
   "execution_count": 109,
   "metadata": {},
   "outputs": [
    {
     "data": {
      "text/plain": [
       "Ttest_relResult(statistic=-1.0653611089770083, pvalue=0.32207416102741493)"
      ]
     },
     "execution_count": 109,
     "metadata": {},
     "output_type": "execute_result"
    }
   ],
   "source": [
    "pre_data = pd.read_csv('output/post_ip/outer_accs_within_pre.csv', index_col=0)\n",
    "post_data = pd.read_csv('output/post_ip/outer_accs_within_post.csv', index_col=0)\n",
    "\n",
    "avg_data_post = post_data['Average'].tolist()\n",
    "avg_data_pre = pre_data.loc[common]['Average'].tolist()\n",
    "\n",
    "scipy.stats.ttest_rel(avg_data_post, avg_data_pre)"
   ]
  },
  {
   "cell_type": "code",
   "execution_count": 113,
   "metadata": {},
   "outputs": [
    {
     "data": {
      "text/plain": [
       "Ttest_relResult(statistic=0.2788760494354379, pvalue=0.7883989671364511)"
      ]
     },
     "execution_count": 113,
     "metadata": {},
     "output_type": "execute_result"
    }
   ],
   "source": [
    "pre_data = pd.read_csv('output/post_cp/outer_accs_within_pre.csv', index_col=0)\n",
    "post_data = pd.read_csv('output/post_cp/outer_accs_within_post.csv', index_col=0)\n",
    "\n",
    "avg_data_post = post_data['Average'].tolist()\n",
    "avg_data_pre = pre_data.loc[common]['Average'].tolist()\n",
    "\n",
    "scipy.stats.ttest_rel(avg_data_post, avg_data_pre)"
   ]
  },
  {
   "cell_type": "code",
   "execution_count": null,
   "metadata": {},
   "outputs": [],
   "source": []
  }
 ],
 "metadata": {
  "kernelspec": {
   "display_name": "Python 3",
   "language": "python",
   "name": "python3"
  },
  "language_info": {
   "codemirror_mode": {
    "name": "ipython",
    "version": 3
   },
   "file_extension": ".py",
   "mimetype": "text/x-python",
   "name": "python",
   "nbconvert_exporter": "python",
   "pygments_lexer": "ipython3",
   "version": "3.6.0"
  }
 },
 "nbformat": 4,
 "nbformat_minor": 2
}

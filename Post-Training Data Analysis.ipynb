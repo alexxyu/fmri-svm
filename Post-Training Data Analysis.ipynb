{
 "cells": [
  {
   "cell_type": "code",
   "execution_count": 2,
   "metadata": {},
   "outputs": [],
   "source": [
    "import numpy as np\n",
    "import pandas as pd\n",
    "import matplotlib.pyplot as plt\n",
    "import seaborn as sns\n",
    "import scipy\n",
    "import glob"
   ]
  },
  {
   "cell_type": "code",
   "execution_count": 3,
   "metadata": {},
   "outputs": [],
   "source": [
    "def df_to_arr(df):\n",
    "    \n",
    "    vals = []\n",
    "    for _, row in df.iterrows():\n",
    "        vals.extend(row.tolist())\n",
    "    return np.array([x for x in vals if str(x) != 'nan'])"
   ]
  },
  {
   "cell_type": "markdown",
   "metadata": {},
   "source": [
    "# IP Significance Tests"
   ]
  },
  {
   "cell_type": "code",
   "execution_count": 13,
   "metadata": {},
   "outputs": [
    {
     "data": {
      "text/plain": [
       "Ttest_relResult(statistic=6.46936599858087, pvalue=0.0003439170474668176)"
      ]
     },
     "execution_count": 13,
     "metadata": {},
     "output_type": "execute_result"
    }
   ],
   "source": [
    "scrambled_data = np.load('output/mt/post_ip/outer_dist.npy')\n",
    "avgs_scrambled = []\n",
    "\n",
    "num_subjects = 8\n",
    "run_size = num_subjects * (num_subjects-1)\n",
    "sub_num_per_run=num_subjects-1\n",
    "num_runs = len(scrambled_data) // run_size\n",
    "for i in range(num_subjects):\n",
    "    \n",
    "    subj_vals = []\n",
    "    for j in range(num_runs):\n",
    "        subj_vals.extend(scrambled_data[sub_num_per_run*num_subjects*j+sub_num_per_run*i:sub_num_per_run*num_subjects*j+sub_num_per_run*(i+1)])\n",
    "    avgs_scrambled.append(np.mean(subj_vals))\n",
    "\n",
    "unscrambled_data = df_to_arr(pd.read_csv('output/mt/post_ip/outer_accs_avg.csv', index_col=0))\n",
    "avgs_unscrambled = []\n",
    "for i in range(num_subjects):\n",
    "    avgs_unscrambled.append(np.mean(unscrambled_data[i*sub_num_per_run:(i+1)*sub_num_per_run]))\n",
    "    \n",
    "scipy.stats.ttest_rel(avgs_unscrambled, avgs_scrambled)"
   ]
  },
  {
   "cell_type": "code",
   "execution_count": 6,
   "metadata": {},
   "outputs": [
    {
     "name": "stdout",
     "output_type": "stream",
     "text": [
      "z-score: 2.4986854590307646\n",
      "p-value: 0.006232744891275658\n"
     ]
    }
   ],
   "source": [
    "outer_scrambled = np.load('output/mt/post_ip/outer_dist.npy')\n",
    "avgs_scrambled = []\n",
    "for i in range(len(outer_scrambled)//run_size):\n",
    "    sample = outer_scrambled[run_size*i:run_size*(i+1)]\n",
    "    avgs_scrambled.append(np.mean(sample))\n",
    "    \n",
    "avgs_mean = np.mean(avgs_scrambled)\n",
    "avgs_std = np.std(avgs_scrambled)\n",
    "\n",
    "outer_unscrambled = df_to_arr(pd.read_csv('output/mt/post_ip/outer_accs_avg.csv', index_col=0))\n",
    "avg_unscrambled = np.mean(outer_unscrambled)\n",
    "\n",
    "z_score = (avg_unscrambled - avgs_mean) / avgs_std\n",
    "print(f\"z-score: {z_score}\")\n",
    "print(f\"p-value: {scipy.stats.norm.sf(abs(z_score))}\")"
   ]
  },
  {
   "cell_type": "markdown",
   "metadata": {},
   "source": [
    "# CP Significance Tests"
   ]
  },
  {
   "cell_type": "code",
   "execution_count": 12,
   "metadata": {},
   "outputs": [
    {
     "data": {
      "text/plain": [
       "Ttest_relResult(statistic=4.174382650238193, pvalue=0.004166315125556841)"
      ]
     },
     "execution_count": 12,
     "metadata": {},
     "output_type": "execute_result"
    }
   ],
   "source": [
    "scrambled_data = np.load('output/mt/mt/post_cp/outer_dist.npy')\n",
    "avgs_scrambled = []\n",
    "\n",
    "num_subjects = 8\n",
    "run_size = num_subjects * (num_subjects-1)\n",
    "sub_num_per_run=num_subjects-1\n",
    "num_runs = len(scrambled_data) // run_size\n",
    "for i in range(num_subjects):\n",
    "    \n",
    "    subj_vals = []\n",
    "    for j in range(num_runs):\n",
    "        subj_vals.extend(scrambled_data[sub_num_per_run*num_subjects*j+sub_num_per_run*i:sub_num_per_run*num_subjects*j+sub_num_per_run*(i+1)])\n",
    "    avgs_scrambled.append(np.mean(subj_vals))\n",
    "\n",
    "unscrambled_data = df_to_arr(pd.read_csv('output/mt/mt/post_cp/outer_accs_avg.csv', index_col=0))\n",
    "avgs_unscrambled = []\n",
    "for i in range(num_subjects):\n",
    "    avgs_unscrambled.append(np.mean(unscrambled_data[i*sub_num_per_run:(i+1)*sub_num_per_run]))\n",
    "    \n",
    "scipy.stats.ttest_rel(avgs_unscrambled, avgs_scrambled)"
   ]
  },
  {
   "cell_type": "code",
   "execution_count": 8,
   "metadata": {},
   "outputs": [
    {
     "name": "stdout",
     "output_type": "stream",
     "text": [
      "z-score: 1.0305449344148274\n",
      "p-value: 0.15137713507540018\n"
     ]
    }
   ],
   "source": [
    "outer_scrambled = np.load('output/mt/post_cp/outer_dist.npy')\n",
    "avgs_scrambled = []\n",
    "for i in range(len(outer_scrambled)//run_size):\n",
    "    sample = outer_scrambled[run_size*i:run_size*(i+1)]\n",
    "    avgs_scrambled.append(np.mean(sample))\n",
    "    \n",
    "avgs_mean = np.mean(avgs_scrambled)\n",
    "avgs_std = np.std(avgs_scrambled)\n",
    "\n",
    "outer_unscrambled = df_to_arr(pd.read_csv('output/mt/post_cp/outer_accs_avg.csv', index_col=0))\n",
    "avg_unscrambled = np.mean(outer_unscrambled)\n",
    "\n",
    "z_score = (avg_unscrambled - avgs_mean) / avgs_std\n",
    "print(f\"z-score: {z_score}\")\n",
    "print(f\"p-value: {scipy.stats.norm.sf(abs(z_score))}\")"
   ]
  },
  {
   "cell_type": "markdown",
   "metadata": {},
   "source": [
    "# Post-Training Unpermuted vs. Permuted CP/IP (Within)"
   ]
  },
  {
   "cell_type": "code",
   "execution_count": 74,
   "metadata": {},
   "outputs": [
    {
     "data": {
      "text/plain": [
       "Ttest_relResult(statistic=8.604721200445661, pvalue=5.70753853598756e-05)"
      ]
     },
     "execution_count": 74,
     "metadata": {},
     "output_type": "execute_result"
    }
   ],
   "source": [
    "num_runs = 30\n",
    "sub_num_per_run = 200\n",
    "num_subjects = 8\n",
    "\n",
    "scrambled_data = np.load('output/mt/post_ip/outer_perms_within.npy')\n",
    "avg_data_unscrambled = pd.read_csv('output/mt/post_ip/outer_accs_within.csv', index_col=0)['Average'].tolist()\n",
    "\n",
    "avg_data_scrambled = []\n",
    "for i in range(num_subjects):\n",
    "    subj_data = []\n",
    "    for j in range(num_runs):\n",
    "        subj_data.extend(scrambled_data[sub_num_per_run*num_subjects*j+sub_num_per_run*i:sub_num_per_run*num_subjects*j+sub_num_per_run*(i+1)])\n",
    "    avg_data_scrambled.append(np.mean(subj_data))\n",
    "    \n",
    "scipy.stats.ttest_rel(avg_data_unscrambled, avg_data_scrambled)"
   ]
  },
  {
   "cell_type": "code",
   "execution_count": 42,
   "metadata": {
    "scrolled": true
   },
   "outputs": [
    {
     "data": {
      "text/plain": [
       "Ttest_relResult(statistic=9.877975827917348, pvalue=2.3196463548008575e-05)"
      ]
     },
     "execution_count": 42,
     "metadata": {},
     "output_type": "execute_result"
    }
   ],
   "source": [
    "num_runs = 30\n",
    "sub_num_per_run = 200\n",
    "num_subjects = 8\n",
    "\n",
    "scrambled_data = np.load('output/mt/post_cp/outer_perms_within.npy')\n",
    "avg_data_unscrambled = pd.read_csv('output/mt/post_cp/outer_accs_within.csv', index_col=0)['Average'].tolist()\n",
    "\n",
    "avg_data_scrambled = []\n",
    "for i in range(num_subjects):\n",
    "    subj_data = []\n",
    "    for j in range(num_runs):\n",
    "        subj_data.extend(scrambled_data[sub_num_per_run*num_subjects*j+sub_num_per_run*i:sub_num_per_run*num_subjects*j+sub_num_per_run*(i+1)])\n",
    "    avg_data_scrambled.append(np.mean(subj_data))\n",
    "    \n",
    "scipy.stats.ttest_rel(avg_data_unscrambled, avg_data_scrambled)"
   ]
  },
  {
   "cell_type": "markdown",
   "metadata": {},
   "source": [
    "# Post-Training vs. Pre-Training CP/IP (Within)"
   ]
  },
  {
   "cell_type": "code",
   "execution_count": 4,
   "metadata": {
    "scrolled": true
   },
   "outputs": [
    {
     "data": {
      "text/plain": [
       "Ttest_relResult(statistic=-1.1968580969476674, pvalue=0.2703186955294861)"
      ]
     },
     "execution_count": 4,
     "metadata": {},
     "output_type": "execute_result"
    }
   ],
   "source": [
    "pre_data = pd.read_csv('output/mt/pre_ip/outer_accs_within.csv', index_col=0)\n",
    "post_data = pd.read_csv('output/mt/post_ip/outer_accs_within.csv', index_col=0)\n",
    "common = post_data.index.intersection(pre_data.index)\n",
    "\n",
    "avg_data_post = post_data['Average'].tolist()\n",
    "avg_data_pre = pre_data.loc[common]['Average'].tolist()\n",
    "\n",
    "scipy.stats.ttest_rel(avg_data_post, avg_data_pre)"
   ]
  },
  {
   "cell_type": "code",
   "execution_count": 5,
   "metadata": {},
   "outputs": [
    {
     "data": {
      "text/plain": [
       "Ttest_relResult(statistic=-2.4713472158564054, pvalue=0.042748522816239705)"
      ]
     },
     "execution_count": 5,
     "metadata": {},
     "output_type": "execute_result"
    }
   ],
   "source": [
    "pre_data = pd.read_csv('output/mt/pre_cp/outer_accs_within.csv', index_col=0)\n",
    "post_data = pd.read_csv('output/mt/post_cp/outer_accs_within.csv', index_col=0)\n",
    "common = post_data.index.intersection(pre_data.index)\n",
    "\n",
    "avg_data_post = post_data['Average'].tolist()\n",
    "avg_data_pre = pre_data.loc[common]['Average'].tolist()\n",
    "\n",
    "scipy.stats.ttest_rel(avg_data_post, avg_data_pre)"
   ]
  },
  {
   "cell_type": "code",
   "execution_count": 6,
   "metadata": {},
   "outputs": [
    {
     "data": {
      "text/plain": [
       "Ttest_relResult(statistic=-1.0653611089770083, pvalue=0.32207416102741493)"
      ]
     },
     "execution_count": 6,
     "metadata": {},
     "output_type": "execute_result"
    }
   ],
   "source": [
    "pre_data = pd.read_csv('output/mt/post_ip/outer_accs_within_pre.csv', index_col=0)\n",
    "post_data = pd.read_csv('output/mt/post_ip/outer_accs_within_post.csv', index_col=0)\n",
    "\n",
    "avg_data_post = post_data['Average'].tolist()\n",
    "avg_data_pre = pre_data.loc[common]['Average'].tolist()\n",
    "\n",
    "scipy.stats.ttest_rel(avg_data_post, avg_data_pre)"
   ]
  },
  {
   "cell_type": "code",
   "execution_count": 7,
   "metadata": {},
   "outputs": [
    {
     "data": {
      "text/plain": [
       "Ttest_relResult(statistic=0.2788760494354379, pvalue=0.7883989671364511)"
      ]
     },
     "execution_count": 7,
     "metadata": {},
     "output_type": "execute_result"
    }
   ],
   "source": [
    "pre_data = pd.read_csv('output/mt/post_cp/outer_accs_within_pre.csv', index_col=0)\n",
    "post_data = pd.read_csv('output/mt/post_cp/outer_accs_within_post.csv', index_col=0)\n",
    "\n",
    "avg_data_post = post_data['Average'].tolist()\n",
    "avg_data_pre = pre_data.loc[common]['Average'].tolist()\n",
    "\n",
    "scipy.stats.ttest_rel(avg_data_post, avg_data_pre)"
   ]
  },
  {
   "cell_type": "code",
   "execution_count": null,
   "metadata": {},
   "outputs": [],
   "source": []
  }
 ],
 "metadata": {
  "kernelspec": {
   "display_name": "Python 3",
   "language": "python",
   "name": "python3"
  },
  "language_info": {
   "codemirror_mode": {
    "name": "ipython",
    "version": 3
   },
   "file_extension": ".py",
   "mimetype": "text/x-python",
   "name": "python",
   "nbconvert_exporter": "python",
   "pygments_lexer": "ipython3",
   "version": "3.6.0"
  }
 },
 "nbformat": 4,
 "nbformat_minor": 2
}

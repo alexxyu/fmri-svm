{
 "cells": [
  {
   "cell_type": "code",
   "execution_count": 2,
   "metadata": {},
   "outputs": [],
   "source": [
    "import numpy as np\n",
    "import pandas as pd\n",
    "import scipy.stats as st"
   ]
  },
  {
   "cell_type": "markdown",
   "metadata": {},
   "source": [
    "# Paired t-test for Statistical Significance\n",
    "Data is in form of a 2D numpy array. In the transpose of this array, rows are different participants and columns are different iterations."
   ]
  },
  {
   "cell_type": "code",
   "execution_count": 16,
   "metadata": {},
   "outputs": [
    {
     "name": "stdout",
     "output_type": "stream",
     "text": [
      "Unpermuted Averages\n",
      "===================\n",
      "0.6041666666666667\n",
      "0.5078125\n",
      "0.53125\n",
      "0.5625\n",
      "0.5833333333333334\n",
      "0.41666666666666663\n",
      "0.59375\n",
      "0.6458333333333334\n",
      "0.609375\n",
      "0.5833333333333333\n",
      "0.515625\n",
      "0.48958333333333337\n",
      "0.6015625\n",
      "\n",
      "Permuted Averages\n",
      "===================\n",
      "0.5\n",
      "0.4888392857142857\n",
      "0.47916666666666663\n",
      "0.49107142857142855\n",
      "0.5059523809523809\n",
      "0.5029761904761905\n",
      "0.49255952380952384\n",
      "0.4806547619047619\n",
      "0.49888392857142855\n",
      "0.5089285714285714\n",
      "0.5066964285714286\n",
      "0.5119047619047619\n",
      "0.5011160714285714\n"
     ]
    },
    {
     "data": {
      "text/plain": [
       "Ttest_relResult(statistic=3.2674091482787535, pvalue=0.006735486939655187)"
      ]
     },
     "execution_count": 16,
     "metadata": {},
     "output_type": "execute_result"
    }
   ],
   "source": [
    "# ROI options: 'mt' or 'v1'\n",
    "# cond options: 'pre_ip', 'pre_cp', 'post_ip', 'post_cp', 'large', or 'small'\n",
    "ROI = 'mt'\n",
    "cond = 'pre_ip'\n",
    "\n",
    "# Load data from npy files\n",
    "outer_unpermuted = np.load(f'output/{ROI}/{cond}/outer_accs.npy').T\n",
    "outer_permuted = np.load(f'output/{ROI}/{cond}/outer_perms.npy').T\n",
    "\n",
    "# Calculate average accuracy by outer subject\n",
    "avgs_outer_unpermuted = []\n",
    "for sub in outer_unpermuted:\n",
    "    avgs_outer_unpermuted.append(np.mean(sub))\n",
    "avgs_outer_permuted = []\n",
    "for sub in outer_permuted:\n",
    "    avgs_outer_permuted.append(np.mean(sub))\n",
    "    \n",
    "print('Unpermuted Averages')\n",
    "print('===================')\n",
    "[print(a) for a in avgs_outer_unpermuted]\n",
    "print()\n",
    "\n",
    "print('Permuted Averages')\n",
    "print('===================')\n",
    "[print(a) for a in avgs_outer_permuted]\n",
    "    \n",
    "st.ttest_rel(avgs_outer_unpermuted, avgs_outer_permuted)"
   ]
  },
  {
   "cell_type": "code",
   "execution_count": null,
   "metadata": {},
   "outputs": [],
   "source": []
  }
 ],
 "metadata": {
  "kernelspec": {
   "display_name": "Python 3",
   "language": "python",
   "name": "python3"
  },
  "language_info": {
   "codemirror_mode": {
    "name": "ipython",
    "version": 3
   },
   "file_extension": ".py",
   "mimetype": "text/x-python",
   "name": "python",
   "nbconvert_exporter": "python",
   "pygments_lexer": "ipython3",
   "version": "3.8.0"
  }
 },
 "nbformat": 4,
 "nbformat_minor": 4
}

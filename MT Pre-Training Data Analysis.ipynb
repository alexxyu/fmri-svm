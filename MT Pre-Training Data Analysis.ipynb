{
 "cells": [
  {
   "cell_type": "code",
   "execution_count": 6,
   "metadata": {},
   "outputs": [],
   "source": [
    "import numpy as np\n",
    "import pandas as pd\n",
    "import matplotlib.pyplot as plt\n",
    "from scipy import stats\n",
    "import glob"
   ]
  },
  {
   "cell_type": "code",
   "execution_count": 7,
   "metadata": {},
   "outputs": [],
   "source": [
    "def df_to_arr(df):\n",
    "    \n",
    "    vals = []\n",
    "    for _, row in df.iterrows():\n",
    "        vals.extend(row.tolist())\n",
    "    return np.array([x for x in vals if str(x) != 'nan'])"
   ]
  },
  {
   "cell_type": "markdown",
   "metadata": {},
   "source": [
    "# IP Significance Tests"
   ]
  },
  {
   "cell_type": "markdown",
   "metadata": {},
   "source": [
    "### 1. Paired t-test"
   ]
  },
  {
   "cell_type": "code",
   "execution_count": 8,
   "metadata": {},
   "outputs": [
    {
     "data": {
      "text/plain": [
       "Ttest_relResult(statistic=3.88272821625636, pvalue=0.0021770941292518844)"
      ]
     },
     "execution_count": 8,
     "metadata": {},
     "output_type": "execute_result"
    }
   ],
   "source": [
    "scrambled_data = np.load('output/mt/pre_ip/outer_dist.npy')\n",
    "avgs_scrambled = []\n",
    "\n",
    "num_subjects = 13\n",
    "run_size = num_subjects * (num_subjects-1)\n",
    "sub_num_per_run=num_subjects-1\n",
    "num_runs = len(scrambled_data) // run_size\n",
    "for i in range(num_subjects):\n",
    "    \n",
    "    subj_vals = []\n",
    "    for j in range(num_runs):\n",
    "        subj_vals.extend(scrambled_data[sub_num_per_run*num_subjects*j+sub_num_per_run*i:sub_num_per_run*num_subjects*j+sub_num_per_run*(i+1)])\n",
    "    avgs_scrambled.append(np.mean(subj_vals))\n",
    "\n",
    "unscrambled_data = df_to_arr(pd.read_csv('output/mt/pre_ip/outer_accs.csv', index_col=0))\n",
    "avgs_unscrambled = []\n",
    "for i in range(num_subjects):\n",
    "    avgs_unscrambled.append(np.mean(unscrambled_data[i*sub_num_per_run:(i+1)*sub_num_per_run]))\n",
    "    \n",
    "stats.ttest_rel(avgs_unscrambled, avgs_scrambled)"
   ]
  },
  {
   "cell_type": "markdown",
   "metadata": {},
   "source": [
    "### 2. Paired t-test with Danny's data"
   ]
  },
  {
   "cell_type": "code",
   "execution_count": 14,
   "metadata": {},
   "outputs": [
    {
     "data": {
      "text/plain": [
       "Ttest_relResult(statistic=3.7947024541712535, pvalue=0.0025543074541806692)"
      ]
     },
     "execution_count": 14,
     "metadata": {},
     "output_type": "execute_result"
    }
   ],
   "source": [
    "avgs_unscrambled = [0.5582,0.5055,0.5955,0.5723,0.5673,0.4210,0.5712,0.6276,0.6045,0.5803,0.5000,0.5165,0.5641]\n",
    "avgs_scrambled = [0.5082,0.4935,0.5190,0.5299,0.5233,0.4692,0.5152,0.5354,0.5331,0.5324,0.4931,0.5091,0.5199]\n",
    "stats.ttest_rel(avgs_unscrambled, avgs_scrambled)"
   ]
  },
  {
   "cell_type": "markdown",
   "metadata": {},
   "source": [
    "### 3. Intrasubject paired t-test"
   ]
  },
  {
   "cell_type": "code",
   "execution_count": 15,
   "metadata": {},
   "outputs": [
    {
     "data": {
      "text/plain": [
       "Ttest_relResult(statistic=18.582103100617424, pvalue=3.2853905583364515e-10)"
      ]
     },
     "execution_count": 15,
     "metadata": {},
     "output_type": "execute_result"
    }
   ],
   "source": [
    "sub_num_per_run = 200\n",
    "num_subjects = 13\n",
    "run_size = num_subjects * sub_num_per_run\n",
    "\n",
    "scrambled_data = np.load('output/mt/pre_ip/outer_dist_within.npy')\n",
    "num_runs = len(scrambled_data) // run_size\n",
    "avg_data_unscrambled = pd.read_csv('output/mt/pre_ip/outer_accs_within.csv', index_col=0)['Average'].tolist()\n",
    "\n",
    "avg_data_scrambled = []\n",
    "for i in range(num_subjects):\n",
    "    subj_data = []\n",
    "    for j in range(num_runs):\n",
    "        subj_data.extend(scrambled_data[sub_num_per_run*num_subjects*j+sub_num_per_run*i:sub_num_per_run*num_subjects*j+sub_num_per_run*(i+1)])\n",
    "    avg_data_scrambled.append(np.mean(subj_data))\n",
    "    \n",
    "stats.ttest_rel(avg_data_unscrambled, avg_data_scrambled)"
   ]
  },
  {
   "cell_type": "markdown",
   "metadata": {},
   "source": [
    "### 4. Intrasubject z significance test"
   ]
  },
  {
   "cell_type": "code",
   "execution_count": 19,
   "metadata": {},
   "outputs": [
    {
     "name": "stdout",
     "output_type": "stream",
     "text": [
      "z-score: 37.77660329494958\n",
      "p-value: 0.0\n"
     ]
    }
   ],
   "source": [
    "avg_unscrambled = np.mean(df_to_arr(pd.read_csv('output/mt/pre_ip/outer_accs_within.csv', index_col=0).drop(['Average'], axis=1)))\n",
    "\n",
    "scrambled_data = np.load('output/mt/pre_ip/outer_dist_within.npy')\n",
    "avgs_scrambled = []\n",
    "for i in range(num_runs):\n",
    "    avgs_scrambled.append(np.mean(scrambled_data[i*sub_num_per_run*num_subjects: (i+1)*sub_num_per_run*num_subjects]))\n",
    "    \n",
    "avgs_mean = np.mean(avgs_scrambled)\n",
    "avgs_std = np.std(avgs_scrambled)\n",
    "    \n",
    "z_score = (avg_unscrambled - avgs_mean) / avgs_std\n",
    "print(f\"z-score: {z_score}\")\n",
    "print(f\"p-value: {stats.norm.sf(abs(z_score))}\")\n"
   ]
  },
  {
   "cell_type": "markdown",
   "metadata": {},
   "source": [
    "# CP Significance Tests"
   ]
  },
  {
   "cell_type": "markdown",
   "metadata": {},
   "source": [
    "### 1. Paired t-test"
   ]
  },
  {
   "cell_type": "code",
   "execution_count": 20,
   "metadata": {},
   "outputs": [
    {
     "data": {
      "text/plain": [
       "Ttest_relResult(statistic=6.4316381225138395, pvalue=3.247081070167531e-05)"
      ]
     },
     "execution_count": 20,
     "metadata": {},
     "output_type": "execute_result"
    }
   ],
   "source": [
    "scrambled_data = np.load('output/mt/pre_cp/outer_dist.npy')\n",
    "avgs_scrambled = []\n",
    "\n",
    "num_subjects = 13\n",
    "run_size = num_subjects * (num_subjects-1)\n",
    "num_runs = len(scrambled_data) // run_size\n",
    "sub_num_per_run=num_subjects-1\n",
    "for i in range(num_subjects):\n",
    "    \n",
    "    subj_vals = []\n",
    "    for j in range(num_runs):\n",
    "        subj_vals.extend(scrambled_data[sub_num_per_run*num_subjects*j+sub_num_per_run*i:sub_num_per_run*num_subjects*j+sub_num_per_run*(i+1)])\n",
    "    avgs_scrambled.append(np.mean(subj_vals))\n",
    "\n",
    "unscrambled_data = df_to_arr(pd.read_csv('output/mt/pre_cp/outer_accs.csv', index_col=0))\n",
    "avgs_unscrambled = []\n",
    "for i in range(num_subjects):\n",
    "    avgs_unscrambled.append(np.mean(unscrambled_data[i*sub_num_per_run:(i+1)*sub_num_per_run]))\n",
    "    \n",
    "stats.ttest_rel(avgs_unscrambled, avgs_scrambled)"
   ]
  },
  {
   "cell_type": "markdown",
   "metadata": {},
   "source": [
    "### 2. Paired t-test with Danny's data"
   ]
  },
  {
   "cell_type": "code",
   "execution_count": 24,
   "metadata": {},
   "outputs": [
    {
     "data": {
      "text/plain": [
       "Ttest_relResult(statistic=6.79572052104781, pvalue=1.9145692724187166e-05)"
      ]
     },
     "execution_count": 24,
     "metadata": {},
     "output_type": "execute_result"
    }
   ],
   "source": [
    "avgs_unscrambled = [0.5460,0.5612,0.5707,0.5781,0.5807,0.5291,0.5729,0.4800,0.5697,0.5278,0.5589,0.5373,0.5599]\n",
    "avgs_scrambled = [0.5049,0.5145,0.5077,0.5062,0.5114,0.5116,0.5171,0.4878,0.5231,0.4905,0.5129,0.5203,0.5126]\n",
    "stats.ttest_rel(avgs_unscrambled, avgs_scrambled)"
   ]
  },
  {
   "cell_type": "markdown",
   "metadata": {},
   "source": [
    "### 3. Intrasubject paired t-test"
   ]
  },
  {
   "cell_type": "code",
   "execution_count": 25,
   "metadata": {},
   "outputs": [
    {
     "data": {
      "text/plain": [
       "Ttest_relResult(statistic=14.58051405023125, pvalue=5.373142467418848e-09)"
      ]
     },
     "execution_count": 25,
     "metadata": {},
     "output_type": "execute_result"
    }
   ],
   "source": [
    "num_runs = 30\n",
    "sub_num_per_run = 200\n",
    "num_subjects = 13\n",
    "run_size = num_subjects * sub_num_per_run\n",
    "\n",
    "scrambled_data = np.load('output/mt/pre_cp/outer_dist_within.npy')\n",
    "avg_data_unscrambled = pd.read_csv('output/mt/pre_cp/outer_accs_within.csv', index_col=0)['Average'].tolist()\n",
    "\n",
    "avg_data_scrambled = []\n",
    "for i in range(num_subjects):\n",
    "    subj_data = []\n",
    "    for j in range(num_runs):\n",
    "        subj_data.extend(scrambled_data[sub_num_per_run*num_subjects*j+sub_num_per_run*i:sub_num_per_run*num_subjects*j+sub_num_per_run*(i+1)])\n",
    "    avg_data_scrambled.append(np.mean(subj_data))\n",
    "    \n",
    "stats.ttest_rel(avg_data_unscrambled, avg_data_scrambled)"
   ]
  },
  {
   "cell_type": "markdown",
   "metadata": {},
   "source": [
    "### 4. Intrasubject z significance test"
   ]
  },
  {
   "cell_type": "code",
   "execution_count": 26,
   "metadata": {},
   "outputs": [
    {
     "name": "stdout",
     "output_type": "stream",
     "text": [
      "z-score: 44.774374490985835\n",
      "p-value: 0.0\n"
     ]
    }
   ],
   "source": [
    "avg_unscrambled = np.mean(df_to_arr(pd.read_csv('output/mt/pre_cp/outer_accs_within.csv', index_col=0).drop(['Average'], axis=1)))\n",
    "\n",
    "scrambled_data = np.load('output/mt/pre_cp/outer_dist_within.npy')\n",
    "avgs_scrambled = []\n",
    "for i in range(num_runs):\n",
    "    avgs_scrambled.append(np.mean(scrambled_data[i*sub_num_per_run*num_subjects: (i+1)*sub_num_per_run*num_subjects]))\n",
    "    \n",
    "avgs_mean = np.mean(avgs_scrambled)\n",
    "avgs_std = np.std(avgs_scrambled)    \n",
    "    \n",
    "z_score = (avg_unscrambled - avgs_mean) / avgs_std\n",
    "print(f\"z-score: {z_score}\")\n",
    "print(f\"p-value: {stats.norm.sf(abs(z_score))}\")\n"
   ]
  },
  {
   "cell_type": "code",
   "execution_count": null,
   "metadata": {},
   "outputs": [],
   "source": []
  }
 ],
 "metadata": {
  "kernelspec": {
   "display_name": "Python 3",
   "language": "python",
   "name": "python3"
  },
  "language_info": {
   "codemirror_mode": {
    "name": "ipython",
    "version": 3
   },
   "file_extension": ".py",
   "mimetype": "text/x-python",
   "name": "python",
   "nbconvert_exporter": "python",
   "pygments_lexer": "ipython3",
   "version": "3.8.0"
  }
 },
 "nbformat": 4,
 "nbformat_minor": 2
}

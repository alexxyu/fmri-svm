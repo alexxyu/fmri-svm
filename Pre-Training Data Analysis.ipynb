{
 "cells": [
  {
   "cell_type": "code",
   "execution_count": 1,
   "metadata": {},
   "outputs": [],
   "source": [
    "import numpy as np\n",
    "import pandas as pd\n",
    "import matplotlib.pyplot as plt\n",
    "import seaborn as sns\n",
    "import scipy\n",
    "import glob"
   ]
  },
  {
   "cell_type": "code",
   "execution_count": 2,
   "metadata": {},
   "outputs": [],
   "source": [
    "def df_to_arr(df):\n",
    "    \n",
    "    vals = []\n",
    "    for _, row in df.iterrows():\n",
    "        vals.extend(row.tolist())\n",
    "    return np.array([x for x in vals if str(x) != 'nan'])"
   ]
  },
  {
   "cell_type": "code",
   "execution_count": 3,
   "metadata": {},
   "outputs": [],
   "source": [
    "def t_test(vals1, vals2, df):\n",
    "    \n",
    "    var1 = vals1.var(ddof=1)\n",
    "    var2 = vals2.var(ddof=1)\n",
    "    N1 = len(vals1)\n",
    "    N2 = len(vals2)\n",
    "    s = np.sqrt(((var1**2)/N1 + (var2**2)/N2))\n",
    "    t = (np.mean(vals1) - np.mean(vals2))/s\n",
    "\n",
    "    return scipy.stats.t.cdf(t, df=df)"
   ]
  },
  {
   "cell_type": "markdown",
   "metadata": {},
   "source": [
    "# IP Significance Tests"
   ]
  },
  {
   "cell_type": "code",
   "execution_count": 3,
   "metadata": {},
   "outputs": [],
   "source": [
    "num_subjects = 13\n",
    "run_size = num_subjects * (num_subjects-1)"
   ]
  },
  {
   "cell_type": "markdown",
   "metadata": {},
   "source": [
    "### 1. Paired t-test"
   ]
  },
  {
   "cell_type": "code",
   "execution_count": 16,
   "metadata": {},
   "outputs": [
    {
     "data": {
      "text/plain": [
       "Ttest_relResult(statistic=3.252723235208647, pvalue=0.006921391998862281)"
      ]
     },
     "execution_count": 16,
     "metadata": {},
     "output_type": "execute_result"
    }
   ],
   "source": [
    "scrambled_data = np.load('output/pre_ip_8block/outer_dist.npy')\n",
    "avgs_scrambled = []\n",
    "\n",
    "num_subjects = 13\n",
    "sub_num_per_run=num_subjects-1\n",
    "num_runs = len(scrambled_data) // run_size\n",
    "for i in range(num_subjects):\n",
    "    \n",
    "    subj_vals = []\n",
    "    for j in range(num_runs):\n",
    "        subj_vals.extend(scrambled_data[sub_num_per_run*num_subjects*j+sub_num_per_run*i:sub_num_per_run*num_subjects*j+sub_num_per_run*(i+1)])\n",
    "    avgs_scrambled.append(np.mean(subj_vals))\n",
    "\n",
    "unscrambled_data = df_to_arr(pd.read_csv('output/pre_ip_8block/outer_accs.csv', index_col=0))\n",
    "avgs_unscrambled = []\n",
    "for i in range(num_subjects):\n",
    "    avgs_unscrambled.append(np.mean(unscrambled_data[i*sub_num_per_run:(i+1)*sub_num_per_run]))\n",
    "    \n",
    "scipy.stats.ttest_rel(avgs_unscrambled, avgs_scrambled)"
   ]
  },
  {
   "cell_type": "markdown",
   "metadata": {},
   "source": [
    "### 2. Paired t-test with Danny's data"
   ]
  },
  {
   "cell_type": "code",
   "execution_count": 46,
   "metadata": {},
   "outputs": [],
   "source": [
    "danny_data = [0.6666666667,0.4166666667,0.5833333333,0.5,0.5833333333,0.6666666667,0.5,0.5833333333,0.5,0.5833333333,0.6666666667,0.5833333333,0.4375,0.5625,0.5625,0.5625,0.5,0.5,0.4375,0.625,0.5,0.5625,0.4375,0.5,0.75,0.75,0.8333333333,0.4166666667,0.5833333333,0.75,0.75,0.5833333333,0.8333333333,0.6666666667,0.8333333333,0.75,0.5,0.625,0.75,0.5,0.625,0.75,0.625,0.625,0.625,0.375,0.625,0.875,0.5,0.5,0.6666666667,0.5,0.5833333333,0.5833333333,0.5,0.3333333333,0.5833333333,0.5,0.5,0.5833333333,0.4166666667,0.5,0.4166666667,0.3333333333,0.25,0.25,0.4166666667,0.4166666667,0.4166666667,0.1666666667,0.5,0.25,0.4166666667,0.3333333333,0.4166666667,0.4166666667,0.4166666667,0.25,0.25,0.25,0.3333333333,0.25,0.25,0.4166666667,0.8333333333,0.6666666667,0.5833333333,0.6666666667,0.3333333333,0.75,0.75,0.6666666667,0.75,0.75,0.6666666667,0.6666666667,0.4375,0.4375,0.5625,0.625,0.25,0.5625,0.5625,0.5625,0.3125,0.5,0.5,0.625,0.75,0.6666666667,0.75,0.5833333333,0.5,0.5833333333,0.75,0.5,0.6666666667,0.75,0.75,0.6666666667,0.625,0.5,0.4375,0.4375,0.625,0.375,0.5,0.5,0.5,0.3125,0.5,0.625,0.5833333333,0.5,0.5,0.5833333333,0.5833333333,0.5833333333,0.5833333333,0.5833333333,0.5833333333,0.5833333333,0.5,0.5833333333,0.5625,0.4375,0.5,0.625,0.5,0.5625,0.5625,0.5625,0.5625,0.4375,0.5,0.5625]\n",
    "outer_unscrambled = df_to_arr(pd.read_csv('output/ip/outer_accs.csv', index_col=0))\n",
    "avgs_unscrambled = []\n",
    "\n",
    "for i in range(num_subjects):\n",
    "    avg = (sum(outer_unscrambled[i*(num_subjects-1):(i+1)*(num_subjects-1)])+sum(danny_data[i*(num_subjects-1):(i+1)*(num_subjects-1)]))/(2*(num_subjects-1))\n",
    "    avgs_unscrambled.append(avg)"
   ]
  },
  {
   "cell_type": "code",
   "execution_count": 26,
   "metadata": {},
   "outputs": [],
   "source": [
    "dfr = dfr.drop(['Sum'])\n",
    "dfr2 = pd.read_csv('output/ip/danny_data.csv', header=None)\n",
    "dfr2.columns = [i for i in range(1, 157)]\n",
    "dfr3 = dfr.append(dfr2)\n",
    "dfr3 = dfr3.reset_index(drop=True)\n",
    "dfr3.loc['Sum',:] = dfr3.sum(axis=0)"
   ]
  },
  {
   "cell_type": "code",
   "execution_count": 27,
   "metadata": {},
   "outputs": [],
   "source": [
    "num_runs = 60\n",
    "sums = list(dfr3.loc['Sum'])\n",
    "\n",
    "avgs_scrambled = []\n",
    "for i in range(num_subjects):\n",
    "    avg = sum(sums[i*(num_subjects-1):(i+1)*(num_subjects-1)])/num_runs/(num_subjects-1)\n",
    "    avgs_scrambled.append(avg)"
   ]
  },
  {
   "cell_type": "code",
   "execution_count": 28,
   "metadata": {},
   "outputs": [
    {
     "data": {
      "text/plain": [
       "Ttest_relResult(statistic=1.635352800257121, pvalue=0.12791601141537487)"
      ]
     },
     "execution_count": 28,
     "metadata": {},
     "output_type": "execute_result"
    }
   ],
   "source": [
    "scipy.stats.ttest_rel(avgs_unscrambled, avgs_scrambled)"
   ]
  },
  {
   "cell_type": "markdown",
   "metadata": {},
   "source": [
    "### 3. Z significance test"
   ]
  },
  {
   "cell_type": "code",
   "execution_count": 17,
   "metadata": {},
   "outputs": [
    {
     "name": "stdout",
     "output_type": "stream",
     "text": [
      "z-score: 3.071639941758283\n",
      "p-value: 0.0010644317378520596\n"
     ]
    }
   ],
   "source": [
    "outer_scrambled = np.load('output/pre_ip_8block/outer_dist.npy')\n",
    "avgs_scrambled = []\n",
    "for i in range(len(outer_scrambled)//run_size):\n",
    "    sample = outer_scrambled[run_size*i:run_size*(i+1)]\n",
    "    avgs_scrambled.append(np.mean(sample))\n",
    "    \n",
    "avgs_mean = np.mean(avgs_scrambled)\n",
    "avgs_std = np.std(avgs_scrambled)\n",
    "\n",
    "outer_unscrambled = df_to_arr(pd.read_csv('output/pre_ip_8block/outer_accs.csv', index_col=0))\n",
    "avg_unscrambled = np.mean(outer_unscrambled)\n",
    "\n",
    "z_score = (avg_unscrambled - avgs_mean) / avgs_std\n",
    "print(f\"z-score: {z_score}\")\n",
    "print(f\"p-value: {scipy.stats.norm.sf(abs(z_score))}\")"
   ]
  },
  {
   "cell_type": "markdown",
   "metadata": {},
   "source": [
    "### 4. Z significance test with Danny's data"
   ]
  },
  {
   "cell_type": "code",
   "execution_count": 761,
   "metadata": {},
   "outputs": [
    {
     "name": "stdout",
     "output_type": "stream",
     "text": [
      "z-score: 4.877023949193285\n",
      "p-value: 5.384918190956188e-07\n"
     ]
    }
   ],
   "source": [
    "outer_scrambled = np.load('output/ip/outer_perms.npy')\n",
    "avgs_scrambled = []\n",
    "for i in range(len(outer_scrambled)//run_size):\n",
    "    sample = outer_scrambled[run_size*i:run_size*(i+1)]\n",
    "    avgs_scrambled.append(np.mean(sample))\n",
    "avgs_scrambled.extend([0.4865117521,0.4978632479,0.5048076923,0.4903846154,0.5069444444,0.5070779915,0.4966613248,0.5088141026,0.4854433761,0.515892094,0.5106837607,0.5166933761,0.5141559829,0.5092147436,0.5106837607,0.4949252137,0.5084134615,0.4975961538,0.5032051282,0.5081463675,0.5108173077,0.4973290598,0.4983974359,0.5073450855,0.4974626068,0.5036057692,0.4957264957,0.4955929487,0.4921207265,0.499599359])\n",
    "    \n",
    "avgs_mean = np.mean(avgs_scrambled)\n",
    "avgs_std = np.std(avgs_scrambled)\n",
    "\n",
    "outer_unscrambled = df_to_arr(pd.read_csv('output/ip/outer_accs.csv', index_col=0))\n",
    "avg_unscrambled = np.mean(outer_unscrambled)\n",
    "\n",
    "z_score = (avg_unscrambled - avgs_mean) / avgs_std\n",
    "print(f\"z-score: {z_score}\")\n",
    "print(f\"p-value: {scipy.stats.norm.sf(abs(z_score))}\")"
   ]
  },
  {
   "cell_type": "markdown",
   "metadata": {},
   "source": [
    "### 5. Intrasubject paired t-test"
   ]
  },
  {
   "cell_type": "code",
   "execution_count": 677,
   "metadata": {},
   "outputs": [
    {
     "data": {
      "text/plain": [
       "Ttest_relResult(statistic=19.95415107573414, pvalue=1.4326660368747702e-10)"
      ]
     },
     "execution_count": 677,
     "metadata": {},
     "output_type": "execute_result"
    }
   ],
   "source": [
    "sub_num_per_run = 200\n",
    "num_subjects = 13\n",
    "\n",
    "scrambled_data = np.load('output/ip/outer_perms_within.npy')\n",
    "num_runs = len(scrambled_data) // run_size\n",
    "avg_data_unscrambled = pd.read_csv('output/ip/outer_accs_within.csv', index_col=0)['Average'].tolist()\n",
    "\n",
    "avg_data_scrambled = []\n",
    "for i in range(num_subjects):\n",
    "    subj_data = []\n",
    "    for j in range(num_runs):\n",
    "        subj_data.extend(scrambled_data[sub_num_per_run*num_subjects*j+sub_num_per_run*i:sub_num_per_run*num_subjects*j+sub_num_per_run*(i+1)])\n",
    "    avg_data_scrambled.append(np.mean(subj_data))\n",
    "    \n",
    "scipy.stats.ttest_rel(avg_data_unscrambled, avg_data_scrambled)"
   ]
  },
  {
   "cell_type": "markdown",
   "metadata": {},
   "source": [
    "### 6. Intrasubject z significance test"
   ]
  },
  {
   "cell_type": "code",
   "execution_count": 623,
   "metadata": {},
   "outputs": [
    {
     "name": "stdout",
     "output_type": "stream",
     "text": [
      "z-score: 57.74933074143386\n",
      "p-value: 0.0\n"
     ]
    }
   ],
   "source": [
    "avg_unscrambled = np.mean(df_to_arr(pd.read_csv('output/ip/outer_accs_within.csv', index_col=0).drop(['Average'], axis=1)))\n",
    "\n",
    "scrambled_data = np.load('output/ip/outer_perms_within.npy')\n",
    "avgs_scrambled = []\n",
    "for i in range(num_runs):\n",
    "    avgs_scrambled.append(np.mean(scrambled_data[i*sub_num_per_run*num_subjects: (i+1)*sub_num_per_run*num_subjects]))\n",
    "    \n",
    "avgs_mean = np.mean(avgs_scrambled)\n",
    "avgs_std = np.std(avgs_scrambled)    \n",
    "    \n",
    "z_score = (avg_unscrambled - avgs_mean) / avgs_std\n",
    "print(f\"z-score: {z_score}\")\n",
    "print(f\"p-value: {scipy.stats.norm.sf(abs(z_score))}\")\n"
   ]
  },
  {
   "cell_type": "markdown",
   "metadata": {},
   "source": [
    "# CP Significance Tests"
   ]
  },
  {
   "cell_type": "markdown",
   "metadata": {},
   "source": [
    "### 1. Paired t-test"
   ]
  },
  {
   "cell_type": "code",
   "execution_count": 18,
   "metadata": {},
   "outputs": [
    {
     "data": {
      "text/plain": [
       "Ttest_relResult(statistic=6.428979023793742, pvalue=3.2598455071448e-05)"
      ]
     },
     "execution_count": 18,
     "metadata": {},
     "output_type": "execute_result"
    }
   ],
   "source": [
    "scrambled_data = np.load('output/pre_cp_8block/outer_dist.npy')\n",
    "avgs_scrambled = []\n",
    "\n",
    "num_subjects = 13\n",
    "num_runs = len(scrambled_data) // run_size\n",
    "sub_num_per_run=num_subjects-1\n",
    "for i in range(num_subjects):\n",
    "    \n",
    "    subj_vals = []\n",
    "    for j in range(num_runs):\n",
    "        subj_vals.extend(scrambled_data[sub_num_per_run*num_subjects*j+sub_num_per_run*i:sub_num_per_run*num_subjects*j+sub_num_per_run*(i+1)])\n",
    "    avgs_scrambled.append(np.mean(subj_vals))\n",
    "\n",
    "unscrambled_data = df_to_arr(pd.read_csv('output/pre_cp_8block/outer_accs.csv', index_col=0))\n",
    "avgs_unscrambled = []\n",
    "for i in range(num_subjects):\n",
    "    avgs_unscrambled.append(np.mean(unscrambled_data[i*sub_num_per_run:(i+1)*sub_num_per_run]))\n",
    "    \n",
    "scipy.stats.ttest_rel(avgs_unscrambled, avgs_scrambled)"
   ]
  },
  {
   "cell_type": "markdown",
   "metadata": {},
   "source": [
    "### 2. Paired t-test with Danny's data"
   ]
  },
  {
   "cell_type": "code",
   "execution_count": 38,
   "metadata": {},
   "outputs": [
    {
     "data": {
      "text/plain": [
       "Ttest_relResult(statistic=1.818634863331209, pvalue=0.0939967311479712)"
      ]
     },
     "execution_count": 38,
     "metadata": {},
     "output_type": "execute_result"
    }
   ],
   "source": [
    "scrambled_data = np.load('output/cp/outer_perms.npy')\n",
    "danny_data = df_to_arr(pd.read_csv('output/cp/danny_data.csv', header=None))\n",
    "avgs_scrambled = []\n",
    "\n",
    "num_subjects = 13\n",
    "num_runs = \n",
    "sub_num_per_run=num_subjects-1\n",
    "for i in range(num_subjects):\n",
    "    \n",
    "    subj_vals = []\n",
    "    for j in range(num_runs):\n",
    "        subj_vals.extend(scrambled_data[sub_num_per_run*num_subjects*j+sub_num_per_run*i:sub_num_per_run*num_subjects*j+sub_num_per_run*(i+1)])\n",
    "        subj_vals.extend(danny_data[sub_num_per_run*num_subjects*j+sub_num_per_run*i:sub_num_per_run*num_subjects*j+sub_num_per_run*(i+1)])\n",
    "        \n",
    "    avgs_scrambled.append(np.mean(subj_vals))\n",
    "\n",
    "danny_data = [0.5833333333,0.5833333333,0.5,0.5,0.5,0.5,0.5833333333,0.5,0.5,0.5833333333,0.5,0.5,0.5625,0.625,0.625,0.5625,0.5625,0.625,0.625,0.1875,0.5625,0.625,0.625,0.625,0.5,0.5833333333,0.5,0.5833333333,0.5833333333,0.5833333333,0.5833333333,0.5833333333,0.6666666667,0.5,0.6666666667,0.6666666667,0.625,0.625,0.625,0.625,0.75,0.625,0.5,0.625,0.625,0.625,0.75,0.625,0.5833333333,0.6666666667,0.5,0.5833333333,0.6666666667,0.6666666667,0.25,0.5833333333,0.5833333333,0.4166666667,0.5,0.5833333333,0.5,0.3333333333,0.5833333333,0.5,0.3333333333,0.5,0.5833333333,0.5,0.4166666667,0.5,0.5,0.4166666667,0.6666666667,0.5,0.5833333333,0.75,0.6666666667,0.5833333333,0.5,0.75,0.75,0.5,0.5,0.5,0.5,0.3333333333,0.3333333333,0.4166666667,0.4166666667,0.4166666667,0.5,0.5833333333,0.4166666667,0.5,0.4166666667,0.4166666667,0.6875,0.6875,0.6875,0.625,0.6875,0.6875,0.625,0.4375,0.625,0.5625,0.625,0.75,0.3333333333,0.3333333333,0.25,0.5,0.5,0.5,0.5,0.3333333333,0.4166666667,0.4166666667,0.4166666667,0.5,0.5,0.4375,0.5,0.5625,0.5625,0.5625,0.5625,0.5,0.5625,0.625,0.5,0.4375,0.5,0.5,0.5833333333,0.6666666667,0.5,0.5833333333,0.5,0.25,0.5,0.5,0.5,0.5,0.625,0.5,0.4375,0.5625,0.5,0.5625,0.4375,0.5,0.5625,0.5625,0.5625,0.4375]\n",
    "unscrambled_data = df_to_arr(pd.read_csv('output/cp/outer_accs.csv', index_col=0))\n",
    "avgs_unscrambled = []\n",
    "for i in range(num_subjects):\n",
    "    avgs_unscrambled.append(np.mean(np.append(unscrambled_data[i*sub_num_per_run:(i+1)*sub_num_per_run], danny_data[i*sub_num_per_run:(i+1)*sub_num_per_run])))\n",
    "    \n",
    "scipy.stats.ttest_rel(avgs_unscrambled, avgs_scrambled)"
   ]
  },
  {
   "cell_type": "markdown",
   "metadata": {},
   "source": [
    "### 3. Z significance test"
   ]
  },
  {
   "cell_type": "code",
   "execution_count": 19,
   "metadata": {},
   "outputs": [
    {
     "name": "stdout",
     "output_type": "stream",
     "text": [
      "z-score: 3.394810414939704\n",
      "p-value: 0.0003433806920417049\n"
     ]
    }
   ],
   "source": [
    "scrambled_data = np.load('output/pre_cp_8block/outer_dist.npy')\n",
    "avgs_scrambled = []\n",
    "\n",
    "run_size=num_subjects*(num_subjects-1)\n",
    "for i in range(len(scrambled_data)//run_size):\n",
    "    sample = scrambled_data[run_size*i:run_size*(i+1)]\n",
    "    avgs_scrambled.append(np.mean(sample))\n",
    "\n",
    "avgs_mean = np.mean(avgs_scrambled)\n",
    "avgs_std = np.std(avgs_scrambled)\n",
    "\n",
    "unscrambled_data = df_to_arr(pd.read_csv('output/pre_cp_8block/outer_accs.csv', index_col=0))\n",
    "avg_unscrambled = np.mean(unscrambled_data)\n",
    "\n",
    "z_score = (avg_unscrambled - avgs_mean) / avgs_std\n",
    "print(f\"z-score: {z_score}\")\n",
    "print(f\"p-value: {scipy.stats.norm.sf(abs(z_score))}\")"
   ]
  },
  {
   "cell_type": "markdown",
   "metadata": {},
   "source": [
    "### 4. Z significance test with Danny's data"
   ]
  },
  {
   "cell_type": "code",
   "execution_count": 821,
   "metadata": {},
   "outputs": [
    {
     "name": "stdout",
     "output_type": "stream",
     "text": [
      "z-score: 3.352297611650758\n",
      "p-value: 0.0004007190734928268\n"
     ]
    }
   ],
   "source": [
    "scrambled_data = np.load('output/cp/outer_perms.npy')\n",
    "avgs_scrambled = []\n",
    "\n",
    "run_size=num_subjects*(num_subjects-1)\n",
    "for i in range(len(scrambled_data)//run_size):\n",
    "    sample = scrambled_data[run_size*i:run_size*(i+1)]\n",
    "    avgs_scrambled.append(np.mean(sample))\n",
    "avgs_scrambled.extend([0.507612179,0.503472222,0.506944444,0.510817308,0.515090812,0.517494658,0.526442308,0.493589744,0.519230769,0.519497863,0.521100427,0.519898504,0.511485043,0.519497863,0.487446581,0.518028846,0.507879274,0.505608974,0.518563034,0.494925214,0.521100427,0.509081197,0.489850427,0.508279915,0.502003205,0.498397436,0.515491453,0.499065171,0.50534188,0.518696581])\n",
    "    \n",
    "avgs_mean = np.mean(avgs_scrambled)\n",
    "avgs_std = np.std(avgs_scrambled)\n",
    "\n",
    "unscrambled_data = df_to_arr(pd.read_csv('output/cp/outer_accs.csv', index_col=0))\n",
    "avg_unscrambled = np.mean(unscrambled_data)\n",
    "\n",
    "z_score = (avg_unscrambled - avgs_mean) / avgs_std\n",
    "print(f\"z-score: {z_score}\")\n",
    "print(f\"p-value: {scipy.stats.norm.sf(abs(z_score))}\")"
   ]
  },
  {
   "cell_type": "markdown",
   "metadata": {},
   "source": [
    "### 5. Intrasubject paired t-test"
   ]
  },
  {
   "cell_type": "code",
   "execution_count": 4,
   "metadata": {},
   "outputs": [
    {
     "data": {
      "text/plain": [
       "Ttest_relResult(statistic=15.046905621651907, pvalue=3.750100801153465e-09)"
      ]
     },
     "execution_count": 4,
     "metadata": {},
     "output_type": "execute_result"
    }
   ],
   "source": [
    "num_runs = 30\n",
    "sub_num_per_run = 200\n",
    "num_subjects = 13\n",
    "\n",
    "scrambled_data = np.load('output/cp/outer_perms_within.npy')\n",
    "avg_data_unscrambled = pd.read_csv('output/cp/outer_accs_within.csv', index_col=0)['Average'].tolist()\n",
    "\n",
    "avg_data_scrambled = []\n",
    "for i in range(num_subjects):\n",
    "    subj_data = []\n",
    "    for j in range(num_runs):\n",
    "        subj_data.extend(scrambled_data[sub_num_per_run*num_subjects*j+sub_num_per_run*i:sub_num_per_run*num_subjects*j+sub_num_per_run*(i+1)])\n",
    "    avg_data_scrambled.append(np.mean(subj_data))\n",
    "    \n",
    "scipy.stats.ttest_rel(avg_data_unscrambled, avg_data_scrambled)"
   ]
  },
  {
   "cell_type": "markdown",
   "metadata": {},
   "source": [
    "### 6. Intrasubject z significance test"
   ]
  },
  {
   "cell_type": "code",
   "execution_count": 5,
   "metadata": {},
   "outputs": [
    {
     "name": "stdout",
     "output_type": "stream",
     "text": [
      "z-score: 55.66731805114806\n",
      "p-value: 0.0\n"
     ]
    }
   ],
   "source": [
    "avg_unscrambled = np.mean(df_to_arr(pd.read_csv('output/cp/outer_accs_within.csv', index_col=0).drop(['Average'], axis=1)))\n",
    "\n",
    "scrambled_data = np.load('output/cp/outer_perms_within.npy')\n",
    "avgs_scrambled = []\n",
    "for i in range(num_runs):\n",
    "    avgs_scrambled.append(np.mean(scrambled_data[i*sub_num_per_run*num_subjects: (i+1)*sub_num_per_run*num_subjects]))\n",
    "    \n",
    "avgs_mean = np.mean(avgs_scrambled)\n",
    "avgs_std = np.std(avgs_scrambled)    \n",
    "    \n",
    "z_score = (avg_unscrambled - avgs_mean) / avgs_std\n",
    "print(f\"z-score: {z_score}\")\n",
    "print(f\"p-value: {scipy.stats.norm.sf(abs(z_score))}\")\n"
   ]
  },
  {
   "cell_type": "code",
   "execution_count": null,
   "metadata": {},
   "outputs": [],
   "source": []
  }
 ],
 "metadata": {
  "kernelspec": {
   "display_name": "Python 3",
   "language": "python",
   "name": "python3"
  },
  "language_info": {
   "codemirror_mode": {
    "name": "ipython",
    "version": 3
   },
   "file_extension": ".py",
   "mimetype": "text/x-python",
   "name": "python",
   "nbconvert_exporter": "python",
   "pygments_lexer": "ipython3",
   "version": "3.6.0"
  }
 },
 "nbformat": 4,
 "nbformat_minor": 2
}
